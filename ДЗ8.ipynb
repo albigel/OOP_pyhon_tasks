{
 "cells": [
  {
   "cell_type": "markdown",
   "metadata": {},
   "source": [
    "# Многопоточность в Python. Библиотеки threading и multiprocessing.\n",
    "\n",
    "http://cs.mipt.ru/advanced_python/lessons/lab6.html"
   ]
  },
  {
   "cell_type": "markdown",
   "metadata": {},
   "source": [
    "## Задание 1:\n",
    "\n",
    "распараллелить чистку текста (колонки text). Функция чистки текста уже написана за вас. Вам нужно только установить все библиотеки (например, через анаконду)\n",
    "\n",
    "\n",
    "https://anaconda.org/anaconda/nltk"
   ]
  },
  {
   "cell_type": "code",
   "execution_count": 45,
   "metadata": {},
   "outputs": [],
   "source": [
    "# подрубаем нужные библиотеки\n",
    "import os # для путей\n",
    "import numpy as np # для массивов\n",
    "import pandas as pd # для работы и хранения данных в ОП\n",
    "\n",
    "import warnings \n",
    "warnings.filterwarnings('ignore') # все предупреждения офф - чтобы не мешали\n",
    "\n",
    "from nltk.corpus import stopwords # частые слова\n",
    "from nltk.stem import PorterStemmer # нлтк стеммер\n",
    "from nltk.stem import WordNetLemmatizer # нлтк лемматизатор\n",
    "from nltk import word_tokenize, sent_tokenize # для разбиения предложений на токены-слова\n",
    "import re # библиотека для регулярных выражений"
   ]
  },
  {
   "cell_type": "markdown",
   "metadata": {},
   "source": [
    "данные здесь: https://www.kaggle.com/c/dlinnlp-spring-2019-clf/data"
   ]
  },
  {
   "cell_type": "code",
   "execution_count": 122,
   "metadata": {},
   "outputs": [
    {
     "name": "stderr",
     "output_type": "stream",
     "text": [
      "Exception in thread Thread-81:\n",
      "Traceback (most recent call last):\n",
      "  File \"/home/alb_wsl_ubu/miniconda3/lib/python3.7/threading.py\", line 917, in _bootstrap_inner\n",
      "    self.run()\n",
      "  File \"/home/alb_wsl_ubu/miniconda3/lib/python3.7/threading.py\", line 865, in run\n",
      "    self._target(*self._args, **self._kwargs)\n",
      "  File \"<ipython-input-103-e1ffebb5fb37>\", line 4, in thread_job\n",
      "    df.iloc[indices[number],3] = list(map(clean_text, data))\n",
      "  File \"/home/alb_wsl_ubu/miniconda3/lib/python3.7/site-packages/pandas/core/indexing.py\", line 204, in __setitem__\n",
      "    indexer = self._get_setitem_indexer(key)\n",
      "  File \"/home/alb_wsl_ubu/miniconda3/lib/python3.7/site-packages/pandas/core/indexing.py\", line 182, in _get_setitem_indexer\n",
      "    return self._convert_tuple(key, is_setter=True)\n",
      "  File \"/home/alb_wsl_ubu/miniconda3/lib/python3.7/site-packages/pandas/core/indexing.py\", line 262, in _convert_tuple\n",
      "    idx = self._convert_to_indexer(k, axis=i, is_setter=is_setter)\n",
      "  File \"/home/alb_wsl_ubu/miniconda3/lib/python3.7/site-packages/pandas/core/indexing.py\", line 2175, in _convert_to_indexer\n",
      "    self._validate_key(obj, axis)\n",
      "  File \"/home/alb_wsl_ubu/miniconda3/lib/python3.7/site-packages/pandas/core/indexing.py\", line 2014, in _validate_key\n",
      "    self._validate_integer(key, axis)\n",
      "  File \"/home/alb_wsl_ubu/miniconda3/lib/python3.7/site-packages/pandas/core/indexing.py\", line 2088, in _validate_integer\n",
      "    raise IndexError(\"single positional indexer is out-of-bounds\")\n",
      "IndexError: single positional indexer is out-of-bounds\n",
      "\n"
     ]
    },
    {
     "name": "stdout",
     "output_type": "stream",
     "text": [
      "24871 5647 30518\n"
     ]
    },
    {
     "data": {
      "text/html": [
       "<div>\n",
       "<style scoped>\n",
       "    .dataframe tbody tr th:only-of-type {\n",
       "        vertical-align: middle;\n",
       "    }\n",
       "\n",
       "    .dataframe tbody tr th {\n",
       "        vertical-align: top;\n",
       "    }\n",
       "\n",
       "    .dataframe thead th {\n",
       "        text-align: right;\n",
       "    }\n",
       "</style>\n",
       "<table border=\"1\" class=\"dataframe\">\n",
       "  <thead>\n",
       "    <tr style=\"text-align: right;\">\n",
       "      <th></th>\n",
       "      <th>text</th>\n",
       "      <th>title</th>\n",
       "    </tr>\n",
       "  </thead>\n",
       "  <tbody>\n",
       "    <tr>\n",
       "      <td>0</td>\n",
       "      <td>Economists generally agree: China must overhau...</td>\n",
       "      <td>China and Economic Reform: Xi Jinping’s Track ...</td>\n",
       "    </tr>\n",
       "    <tr>\n",
       "      <td>1</td>\n",
       "      <td>LONDON—British Prime Minister Theresa May said...</td>\n",
       "      <td>Trade to Be a Big Topic in Theresa May’s U.S. ...</td>\n",
       "    </tr>\n",
       "    <tr>\n",
       "      <td>2</td>\n",
       "      <td>Beaches come in all sorts of shapes and sizes ...</td>\n",
       "      <td>The Top Beaches In The World, According To Nat...</td>\n",
       "    </tr>\n",
       "    <tr>\n",
       "      <td>3</td>\n",
       "      <td>A timeline of what happened after Tamir Rice, ...</td>\n",
       "      <td>Sheriff’s Report Provides New Details on Tamir...</td>\n",
       "    </tr>\n",
       "    <tr>\n",
       "      <td>4</td>\n",
       "      <td>An Italian neurosurgeon who has claimed for mo...</td>\n",
       "      <td>Surgeon claiming he will transplant volunteer'...</td>\n",
       "    </tr>\n",
       "    <tr>\n",
       "      <td>5</td>\n",
       "      <td>Spanx does not do the thing I thought it did. ...</td>\n",
       "      <td>This Is How Differently Priced Spanx Can Actua...</td>\n",
       "    </tr>\n",
       "    <tr>\n",
       "      <td>6</td>\n",
       "      <td>“Jane Pauley! You’re all in leather,” said Sam...</td>\n",
       "      <td>Samantha Bee and Jane Pauley Are Breaking the ...</td>\n",
       "    </tr>\n",
       "    <tr>\n",
       "      <td>7</td>\n",
       "      <td>Charles Krauthammer called President Trump's 5...</td>\n",
       "      <td>Krauthammer: Syria Strike 'Total Contradiction...</td>\n",
       "    </tr>\n",
       "    <tr>\n",
       "      <td>8</td>\n",
       "      <td>The United States is making more things than e...</td>\n",
       "      <td>Rust Belt voters made Trump president. Now the...</td>\n",
       "    </tr>\n",
       "    <tr>\n",
       "      <td>9</td>\n",
       "      <td>As Jewish settlers and protesters were removed...</td>\n",
       "      <td>As Illegal Outpost Cleared, Israeli PM Netanya...</td>\n",
       "    </tr>\n",
       "  </tbody>\n",
       "</table>\n",
       "</div>"
      ],
      "text/plain": [
       "                                                text  \\\n",
       "0  Economists generally agree: China must overhau...   \n",
       "1  LONDON—British Prime Minister Theresa May said...   \n",
       "2  Beaches come in all sorts of shapes and sizes ...   \n",
       "3  A timeline of what happened after Tamir Rice, ...   \n",
       "4  An Italian neurosurgeon who has claimed for mo...   \n",
       "5  Spanx does not do the thing I thought it did. ...   \n",
       "6  “Jane Pauley! You’re all in leather,” said Sam...   \n",
       "7  Charles Krauthammer called President Trump's 5...   \n",
       "8  The United States is making more things than e...   \n",
       "9  As Jewish settlers and protesters were removed...   \n",
       "\n",
       "                                               title  \n",
       "0  China and Economic Reform: Xi Jinping’s Track ...  \n",
       "1  Trade to Be a Big Topic in Theresa May’s U.S. ...  \n",
       "2  The Top Beaches In The World, According To Nat...  \n",
       "3  Sheriff’s Report Provides New Details on Tamir...  \n",
       "4  Surgeon claiming he will transplant volunteer'...  \n",
       "5  This Is How Differently Priced Spanx Can Actua...  \n",
       "6  Samantha Bee and Jane Pauley Are Breaking the ...  \n",
       "7  Krauthammer: Syria Strike 'Total Contradiction...  \n",
       "8  Rust Belt voters made Trump president. Now the...  \n",
       "9  As Illegal Outpost Cleared, Israeli PM Netanya...  "
      ]
     },
     "execution_count": 122,
     "metadata": {},
     "output_type": "execute_result"
    },
    {
     "name": "stderr",
     "output_type": "stream",
     "text": [
      "Exception in thread Thread-80:\n",
      "Traceback (most recent call last):\n",
      "  File \"/home/alb_wsl_ubu/miniconda3/lib/python3.7/threading.py\", line 917, in _bootstrap_inner\n",
      "    self.run()\n",
      "  File \"/home/alb_wsl_ubu/miniconda3/lib/python3.7/threading.py\", line 865, in run\n",
      "    self._target(*self._args, **self._kwargs)\n",
      "  File \"<ipython-input-103-e1ffebb5fb37>\", line 4, in thread_job\n",
      "    df.iloc[indices[number],3] = list(map(clean_text, data))\n",
      "  File \"/home/alb_wsl_ubu/miniconda3/lib/python3.7/site-packages/pandas/core/indexing.py\", line 204, in __setitem__\n",
      "    indexer = self._get_setitem_indexer(key)\n",
      "  File \"/home/alb_wsl_ubu/miniconda3/lib/python3.7/site-packages/pandas/core/indexing.py\", line 182, in _get_setitem_indexer\n",
      "    return self._convert_tuple(key, is_setter=True)\n",
      "  File \"/home/alb_wsl_ubu/miniconda3/lib/python3.7/site-packages/pandas/core/indexing.py\", line 262, in _convert_tuple\n",
      "    idx = self._convert_to_indexer(k, axis=i, is_setter=is_setter)\n",
      "  File \"/home/alb_wsl_ubu/miniconda3/lib/python3.7/site-packages/pandas/core/indexing.py\", line 2175, in _convert_to_indexer\n",
      "    self._validate_key(obj, axis)\n",
      "  File \"/home/alb_wsl_ubu/miniconda3/lib/python3.7/site-packages/pandas/core/indexing.py\", line 2014, in _validate_key\n",
      "    self._validate_integer(key, axis)\n",
      "  File \"/home/alb_wsl_ubu/miniconda3/lib/python3.7/site-packages/pandas/core/indexing.py\", line 2088, in _validate_integer\n",
      "    raise IndexError(\"single positional indexer is out-of-bounds\")\n",
      "IndexError: single positional indexer is out-of-bounds\n",
      "\n"
     ]
    }
   ],
   "source": [
    "train_df = pd.read_csv ('train.csv')\n",
    "test_df = pd.read_csv ('test.csv')\n",
    "df = pd.concat([train_df, test_df], axis=0, ignore_index=True).drop(['Unnamed: 0', 'label'], axis=1)\n",
    "print(len(train_df), len(test_df), len(df))\n",
    "df.head(10)"
   ]
  },
  {
   "cell_type": "code",
   "execution_count": 52,
   "metadata": {},
   "outputs": [
    {
     "name": "stderr",
     "output_type": "stream",
     "text": [
      "[nltk_data] Downloading package stopwords to\n",
      "[nltk_data]     /home/alb_wsl_ubu/nltk_data...\n",
      "[nltk_data]   Package stopwords is already up-to-date!\n",
      "[nltk_data] Downloading package wordnet to\n",
      "[nltk_data]     /home/alb_wsl_ubu/nltk_data...\n",
      "[nltk_data]   Unzipping corpora/wordnet.zip.\n"
     ]
    },
    {
     "data": {
      "text/plain": [
       "True"
      ]
     },
     "execution_count": 52,
     "metadata": {},
     "output_type": "execute_result"
    }
   ],
   "source": [
    "import nltk \n",
    "nltk.download('stopwords')\n",
    "nltk.download('wordnet')"
   ]
  },
  {
   "cell_type": "code",
   "execution_count": 53,
   "metadata": {},
   "outputs": [],
   "source": [
    "# функция для очистки текста\n",
    "\n",
    "def clean_text(data):\n",
    "    low = True \n",
    "    delstops = True\n",
    "    lemm = True\n",
    "    stem = True\n",
    "    del12gram = True  # True = убираем обрывки слов в 1-2 символа\n",
    "    \n",
    "    \n",
    "    stops = set(stopwords.words(\"english\"))\n",
    "    data = str(data)\n",
    "    data = re.sub(r'[^a-zA-Z ]',r' ',data)\n",
    "    data = ' '.join(data.split()) #убираем лишние пробелы\n",
    "    \n",
    "    if low:\n",
    "        data = data.lower()\n",
    "    \n",
    "    if delstops:\n",
    "        data = \" \".join([w for w in data.split() if w not in stops])\n",
    "\n",
    "    if lemm:      \n",
    "        wordnet_lemmatizer = WordNetLemmatizer()\n",
    "        data = \" \".join([wordnet_lemmatizer.lemmatize(w, pos='a') for w in data.split()])\n",
    "        data = \" \".join([wordnet_lemmatizer.lemmatize(w, pos='n') for w in data.split()])\n",
    "        \n",
    "    if stem:\n",
    "        st = PorterStemmer()\n",
    "        data = \" \".join([st.stem(w) for w in data.split()])\n",
    "        \n",
    "    if del12gram:\n",
    "        data = \" \".join([w for w in data.split() if len(w) > 2])  \n",
    "          \n",
    "    return data"
   ]
  },
  {
   "cell_type": "code",
   "execution_count": 123,
   "metadata": {},
   "outputs": [
    {
     "name": "stderr",
     "output_type": "stream",
     "text": [
      "Exception in thread Thread-87:\n",
      "Traceback (most recent call last):\n",
      "  File \"/home/alb_wsl_ubu/miniconda3/lib/python3.7/threading.py\", line 917, in _bootstrap_inner\n",
      "    self.run()\n",
      "  File \"/home/alb_wsl_ubu/miniconda3/lib/python3.7/threading.py\", line 865, in run\n",
      "    self._target(*self._args, **self._kwargs)\n",
      "  File \"<ipython-input-103-e1ffebb5fb37>\", line 4, in thread_job\n",
      "    df.iloc[indices[number],3] = list(map(clean_text, data))\n",
      "  File \"/home/alb_wsl_ubu/miniconda3/lib/python3.7/site-packages/pandas/core/indexing.py\", line 204, in __setitem__\n",
      "    indexer = self._get_setitem_indexer(key)\n",
      "  File \"/home/alb_wsl_ubu/miniconda3/lib/python3.7/site-packages/pandas/core/indexing.py\", line 182, in _get_setitem_indexer\n",
      "    return self._convert_tuple(key, is_setter=True)\n",
      "  File \"/home/alb_wsl_ubu/miniconda3/lib/python3.7/site-packages/pandas/core/indexing.py\", line 262, in _convert_tuple\n",
      "    idx = self._convert_to_indexer(k, axis=i, is_setter=is_setter)\n",
      "  File \"/home/alb_wsl_ubu/miniconda3/lib/python3.7/site-packages/pandas/core/indexing.py\", line 2175, in _convert_to_indexer\n",
      "    self._validate_key(obj, axis)\n",
      "  File \"/home/alb_wsl_ubu/miniconda3/lib/python3.7/site-packages/pandas/core/indexing.py\", line 2014, in _validate_key\n",
      "    self._validate_integer(key, axis)\n",
      "  File \"/home/alb_wsl_ubu/miniconda3/lib/python3.7/site-packages/pandas/core/indexing.py\", line 2088, in _validate_integer\n",
      "    raise IndexError(\"single positional indexer is out-of-bounds\")\n",
      "IndexError: single positional indexer is out-of-bounds\n",
      "\n",
      "Exception in thread Thread-88:\n",
      "Traceback (most recent call last):\n",
      "  File \"/home/alb_wsl_ubu/miniconda3/lib/python3.7/threading.py\", line 917, in _bootstrap_inner\n",
      "    self.run()\n",
      "  File \"/home/alb_wsl_ubu/miniconda3/lib/python3.7/threading.py\", line 865, in run\n",
      "    self._target(*self._args, **self._kwargs)\n",
      "  File \"<ipython-input-103-e1ffebb5fb37>\", line 4, in thread_job\n",
      "    df.iloc[indices[number],3] = list(map(clean_text, data))\n",
      "  File \"/home/alb_wsl_ubu/miniconda3/lib/python3.7/site-packages/pandas/core/indexing.py\", line 204, in __setitem__\n",
      "    indexer = self._get_setitem_indexer(key)\n",
      "  File \"/home/alb_wsl_ubu/miniconda3/lib/python3.7/site-packages/pandas/core/indexing.py\", line 182, in _get_setitem_indexer\n",
      "    return self._convert_tuple(key, is_setter=True)\n",
      "  File \"/home/alb_wsl_ubu/miniconda3/lib/python3.7/site-packages/pandas/core/indexing.py\", line 262, in _convert_tuple\n",
      "    idx = self._convert_to_indexer(k, axis=i, is_setter=is_setter)\n",
      "  File \"/home/alb_wsl_ubu/miniconda3/lib/python3.7/site-packages/pandas/core/indexing.py\", line 2175, in _convert_to_indexer\n",
      "    self._validate_key(obj, axis)\n",
      "  File \"/home/alb_wsl_ubu/miniconda3/lib/python3.7/site-packages/pandas/core/indexing.py\", line 2014, in _validate_key\n",
      "    self._validate_integer(key, axis)\n",
      "  File \"/home/alb_wsl_ubu/miniconda3/lib/python3.7/site-packages/pandas/core/indexing.py\", line 2088, in _validate_integer\n",
      "    raise IndexError(\"single positional indexer is out-of-bounds\")\n",
      "IndexError: single positional indexer is out-of-bounds\n",
      "\n",
      "Exception in thread Thread-85:\n",
      "Traceback (most recent call last):\n",
      "  File \"/home/alb_wsl_ubu/miniconda3/lib/python3.7/threading.py\", line 917, in _bootstrap_inner\n",
      "    self.run()\n",
      "  File \"/home/alb_wsl_ubu/miniconda3/lib/python3.7/threading.py\", line 865, in run\n",
      "    self._target(*self._args, **self._kwargs)\n",
      "  File \"<ipython-input-103-e1ffebb5fb37>\", line 4, in thread_job\n",
      "    df.iloc[indices[number],3] = list(map(clean_text, data))\n",
      "  File \"/home/alb_wsl_ubu/miniconda3/lib/python3.7/site-packages/pandas/core/indexing.py\", line 204, in __setitem__\n",
      "    indexer = self._get_setitem_indexer(key)\n",
      "  File \"/home/alb_wsl_ubu/miniconda3/lib/python3.7/site-packages/pandas/core/indexing.py\", line 182, in _get_setitem_indexer\n",
      "    return self._convert_tuple(key, is_setter=True)\n",
      "  File \"/home/alb_wsl_ubu/miniconda3/lib/python3.7/site-packages/pandas/core/indexing.py\", line 262, in _convert_tuple\n",
      "    idx = self._convert_to_indexer(k, axis=i, is_setter=is_setter)\n",
      "  File \"/home/alb_wsl_ubu/miniconda3/lib/python3.7/site-packages/pandas/core/indexing.py\", line 2175, in _convert_to_indexer\n",
      "    self._validate_key(obj, axis)\n",
      "  File \"/home/alb_wsl_ubu/miniconda3/lib/python3.7/site-packages/pandas/core/indexing.py\", line 2014, in _validate_key\n",
      "    self._validate_integer(key, axis)\n",
      "  File \"/home/alb_wsl_ubu/miniconda3/lib/python3.7/site-packages/pandas/core/indexing.py\", line 2088, in _validate_integer\n",
      "    raise IndexError(\"single positional indexer is out-of-bounds\")\n",
      "IndexError: single positional indexer is out-of-bounds\n",
      "\n",
      "Exception in thread Thread-86:\n",
      "Traceback (most recent call last):\n",
      "  File \"/home/alb_wsl_ubu/miniconda3/lib/python3.7/threading.py\", line 917, in _bootstrap_inner\n",
      "    self.run()\n",
      "  File \"/home/alb_wsl_ubu/miniconda3/lib/python3.7/threading.py\", line 865, in run\n",
      "    self._target(*self._args, **self._kwargs)\n",
      "  File \"<ipython-input-103-e1ffebb5fb37>\", line 4, in thread_job\n",
      "    df.iloc[indices[number],3] = list(map(clean_text, data))\n",
      "  File \"/home/alb_wsl_ubu/miniconda3/lib/python3.7/site-packages/pandas/core/indexing.py\", line 204, in __setitem__\n",
      "    indexer = self._get_setitem_indexer(key)\n",
      "  File \"/home/alb_wsl_ubu/miniconda3/lib/python3.7/site-packages/pandas/core/indexing.py\", line 182, in _get_setitem_indexer\n",
      "    return self._convert_tuple(key, is_setter=True)\n",
      "  File \"/home/alb_wsl_ubu/miniconda3/lib/python3.7/site-packages/pandas/core/indexing.py\", line 262, in _convert_tuple\n",
      "    idx = self._convert_to_indexer(k, axis=i, is_setter=is_setter)\n",
      "  File \"/home/alb_wsl_ubu/miniconda3/lib/python3.7/site-packages/pandas/core/indexing.py\", line 2175, in _convert_to_indexer\n",
      "    self._validate_key(obj, axis)\n",
      "  File \"/home/alb_wsl_ubu/miniconda3/lib/python3.7/site-packages/pandas/core/indexing.py\", line 2014, in _validate_key\n",
      "    self._validate_integer(key, axis)\n",
      "  File \"/home/alb_wsl_ubu/miniconda3/lib/python3.7/site-packages/pandas/core/indexing.py\", line 2088, in _validate_integer\n",
      "    raise IndexError(\"single positional indexer is out-of-bounds\")\n",
      "IndexError: single positional indexer is out-of-bounds\n",
      "\n"
     ]
    },
    {
     "ename": "KeyboardInterrupt",
     "evalue": "",
     "output_type": "error",
     "traceback": [
      "\u001b[0;31m---------------------------------------------------------------------------\u001b[0m",
      "\u001b[0;31mKeyboardInterrupt\u001b[0m                         Traceback (most recent call last)",
      "\u001b[0;32m<timed exec>\u001b[0m in \u001b[0;36m<module>\u001b[0;34m\u001b[0m\n",
      "\u001b[0;32m~/miniconda3/lib/python3.7/site-packages/pandas/core/series.py\u001b[0m in \u001b[0;36mmap\u001b[0;34m(self, arg, na_action)\u001b[0m\n\u001b[1;32m   3823\u001b[0m         \u001b[0mdtype\u001b[0m\u001b[0;34m:\u001b[0m \u001b[0mobject\u001b[0m\u001b[0;34m\u001b[0m\u001b[0;34m\u001b[0m\u001b[0m\n\u001b[1;32m   3824\u001b[0m         \"\"\"\n\u001b[0;32m-> 3825\u001b[0;31m         \u001b[0mnew_values\u001b[0m \u001b[0;34m=\u001b[0m \u001b[0msuper\u001b[0m\u001b[0;34m(\u001b[0m\u001b[0;34m)\u001b[0m\u001b[0;34m.\u001b[0m\u001b[0m_map_values\u001b[0m\u001b[0;34m(\u001b[0m\u001b[0marg\u001b[0m\u001b[0;34m,\u001b[0m \u001b[0mna_action\u001b[0m\u001b[0;34m=\u001b[0m\u001b[0mna_action\u001b[0m\u001b[0;34m)\u001b[0m\u001b[0;34m\u001b[0m\u001b[0;34m\u001b[0m\u001b[0m\n\u001b[0m\u001b[1;32m   3826\u001b[0m         \u001b[0;32mreturn\u001b[0m \u001b[0mself\u001b[0m\u001b[0;34m.\u001b[0m\u001b[0m_constructor\u001b[0m\u001b[0;34m(\u001b[0m\u001b[0mnew_values\u001b[0m\u001b[0;34m,\u001b[0m \u001b[0mindex\u001b[0m\u001b[0;34m=\u001b[0m\u001b[0mself\u001b[0m\u001b[0;34m.\u001b[0m\u001b[0mindex\u001b[0m\u001b[0;34m)\u001b[0m\u001b[0;34m.\u001b[0m\u001b[0m__finalize__\u001b[0m\u001b[0;34m(\u001b[0m\u001b[0mself\u001b[0m\u001b[0;34m)\u001b[0m\u001b[0;34m\u001b[0m\u001b[0;34m\u001b[0m\u001b[0m\n\u001b[1;32m   3827\u001b[0m \u001b[0;34m\u001b[0m\u001b[0m\n",
      "\u001b[0;32m~/miniconda3/lib/python3.7/site-packages/pandas/core/base.py\u001b[0m in \u001b[0;36m_map_values\u001b[0;34m(self, mapper, na_action)\u001b[0m\n\u001b[1;32m   1298\u001b[0m \u001b[0;34m\u001b[0m\u001b[0m\n\u001b[1;32m   1299\u001b[0m         \u001b[0;31m# mapper is a function\u001b[0m\u001b[0;34m\u001b[0m\u001b[0;34m\u001b[0m\u001b[0;34m\u001b[0m\u001b[0m\n\u001b[0;32m-> 1300\u001b[0;31m         \u001b[0mnew_values\u001b[0m \u001b[0;34m=\u001b[0m \u001b[0mmap_f\u001b[0m\u001b[0;34m(\u001b[0m\u001b[0mvalues\u001b[0m\u001b[0;34m,\u001b[0m \u001b[0mmapper\u001b[0m\u001b[0;34m)\u001b[0m\u001b[0;34m\u001b[0m\u001b[0;34m\u001b[0m\u001b[0m\n\u001b[0m\u001b[1;32m   1301\u001b[0m \u001b[0;34m\u001b[0m\u001b[0m\n\u001b[1;32m   1302\u001b[0m         \u001b[0;32mreturn\u001b[0m \u001b[0mnew_values\u001b[0m\u001b[0;34m\u001b[0m\u001b[0;34m\u001b[0m\u001b[0m\n",
      "\u001b[0;32mpandas/_libs/lib.pyx\u001b[0m in \u001b[0;36mpandas._libs.lib.map_infer\u001b[0;34m()\u001b[0m\n",
      "\u001b[0;32m<ipython-input-53-a24afc5fb07d>\u001b[0m in \u001b[0;36mclean_text\u001b[0;34m(data)\u001b[0m\n\u001b[1;32m     22\u001b[0m     \u001b[0;32mif\u001b[0m \u001b[0mlemm\u001b[0m\u001b[0;34m:\u001b[0m\u001b[0;34m\u001b[0m\u001b[0;34m\u001b[0m\u001b[0m\n\u001b[1;32m     23\u001b[0m         \u001b[0mwordnet_lemmatizer\u001b[0m \u001b[0;34m=\u001b[0m \u001b[0mWordNetLemmatizer\u001b[0m\u001b[0;34m(\u001b[0m\u001b[0;34m)\u001b[0m\u001b[0;34m\u001b[0m\u001b[0;34m\u001b[0m\u001b[0m\n\u001b[0;32m---> 24\u001b[0;31m         \u001b[0mdata\u001b[0m \u001b[0;34m=\u001b[0m \u001b[0;34m\" \"\u001b[0m\u001b[0;34m.\u001b[0m\u001b[0mjoin\u001b[0m\u001b[0;34m(\u001b[0m\u001b[0;34m[\u001b[0m\u001b[0mwordnet_lemmatizer\u001b[0m\u001b[0;34m.\u001b[0m\u001b[0mlemmatize\u001b[0m\u001b[0;34m(\u001b[0m\u001b[0mw\u001b[0m\u001b[0;34m,\u001b[0m \u001b[0mpos\u001b[0m\u001b[0;34m=\u001b[0m\u001b[0;34m'a'\u001b[0m\u001b[0;34m)\u001b[0m \u001b[0;32mfor\u001b[0m \u001b[0mw\u001b[0m \u001b[0;32min\u001b[0m \u001b[0mdata\u001b[0m\u001b[0;34m.\u001b[0m\u001b[0msplit\u001b[0m\u001b[0;34m(\u001b[0m\u001b[0;34m)\u001b[0m\u001b[0;34m]\u001b[0m\u001b[0;34m)\u001b[0m\u001b[0;34m\u001b[0m\u001b[0;34m\u001b[0m\u001b[0m\n\u001b[0m\u001b[1;32m     25\u001b[0m         \u001b[0mdata\u001b[0m \u001b[0;34m=\u001b[0m \u001b[0;34m\" \"\u001b[0m\u001b[0;34m.\u001b[0m\u001b[0mjoin\u001b[0m\u001b[0;34m(\u001b[0m\u001b[0;34m[\u001b[0m\u001b[0mwordnet_lemmatizer\u001b[0m\u001b[0;34m.\u001b[0m\u001b[0mlemmatize\u001b[0m\u001b[0;34m(\u001b[0m\u001b[0mw\u001b[0m\u001b[0;34m,\u001b[0m \u001b[0mpos\u001b[0m\u001b[0;34m=\u001b[0m\u001b[0;34m'n'\u001b[0m\u001b[0;34m)\u001b[0m \u001b[0;32mfor\u001b[0m \u001b[0mw\u001b[0m \u001b[0;32min\u001b[0m \u001b[0mdata\u001b[0m\u001b[0;34m.\u001b[0m\u001b[0msplit\u001b[0m\u001b[0;34m(\u001b[0m\u001b[0;34m)\u001b[0m\u001b[0;34m]\u001b[0m\u001b[0;34m)\u001b[0m\u001b[0;34m\u001b[0m\u001b[0;34m\u001b[0m\u001b[0m\n\u001b[1;32m     26\u001b[0m \u001b[0;34m\u001b[0m\u001b[0m\n",
      "\u001b[0;32m<ipython-input-53-a24afc5fb07d>\u001b[0m in \u001b[0;36m<listcomp>\u001b[0;34m(.0)\u001b[0m\n\u001b[1;32m     22\u001b[0m     \u001b[0;32mif\u001b[0m \u001b[0mlemm\u001b[0m\u001b[0;34m:\u001b[0m\u001b[0;34m\u001b[0m\u001b[0;34m\u001b[0m\u001b[0m\n\u001b[1;32m     23\u001b[0m         \u001b[0mwordnet_lemmatizer\u001b[0m \u001b[0;34m=\u001b[0m \u001b[0mWordNetLemmatizer\u001b[0m\u001b[0;34m(\u001b[0m\u001b[0;34m)\u001b[0m\u001b[0;34m\u001b[0m\u001b[0;34m\u001b[0m\u001b[0m\n\u001b[0;32m---> 24\u001b[0;31m         \u001b[0mdata\u001b[0m \u001b[0;34m=\u001b[0m \u001b[0;34m\" \"\u001b[0m\u001b[0;34m.\u001b[0m\u001b[0mjoin\u001b[0m\u001b[0;34m(\u001b[0m\u001b[0;34m[\u001b[0m\u001b[0mwordnet_lemmatizer\u001b[0m\u001b[0;34m.\u001b[0m\u001b[0mlemmatize\u001b[0m\u001b[0;34m(\u001b[0m\u001b[0mw\u001b[0m\u001b[0;34m,\u001b[0m \u001b[0mpos\u001b[0m\u001b[0;34m=\u001b[0m\u001b[0;34m'a'\u001b[0m\u001b[0;34m)\u001b[0m \u001b[0;32mfor\u001b[0m \u001b[0mw\u001b[0m \u001b[0;32min\u001b[0m \u001b[0mdata\u001b[0m\u001b[0;34m.\u001b[0m\u001b[0msplit\u001b[0m\u001b[0;34m(\u001b[0m\u001b[0;34m)\u001b[0m\u001b[0;34m]\u001b[0m\u001b[0;34m)\u001b[0m\u001b[0;34m\u001b[0m\u001b[0;34m\u001b[0m\u001b[0m\n\u001b[0m\u001b[1;32m     25\u001b[0m         \u001b[0mdata\u001b[0m \u001b[0;34m=\u001b[0m \u001b[0;34m\" \"\u001b[0m\u001b[0;34m.\u001b[0m\u001b[0mjoin\u001b[0m\u001b[0;34m(\u001b[0m\u001b[0;34m[\u001b[0m\u001b[0mwordnet_lemmatizer\u001b[0m\u001b[0;34m.\u001b[0m\u001b[0mlemmatize\u001b[0m\u001b[0;34m(\u001b[0m\u001b[0mw\u001b[0m\u001b[0;34m,\u001b[0m \u001b[0mpos\u001b[0m\u001b[0;34m=\u001b[0m\u001b[0;34m'n'\u001b[0m\u001b[0;34m)\u001b[0m \u001b[0;32mfor\u001b[0m \u001b[0mw\u001b[0m \u001b[0;32min\u001b[0m \u001b[0mdata\u001b[0m\u001b[0;34m.\u001b[0m\u001b[0msplit\u001b[0m\u001b[0;34m(\u001b[0m\u001b[0;34m)\u001b[0m\u001b[0;34m]\u001b[0m\u001b[0;34m)\u001b[0m\u001b[0;34m\u001b[0m\u001b[0;34m\u001b[0m\u001b[0m\n\u001b[1;32m     26\u001b[0m \u001b[0;34m\u001b[0m\u001b[0m\n",
      "\u001b[0;32m~/miniconda3/lib/python3.7/site-packages/nltk/stem/wordnet.py\u001b[0m in \u001b[0;36mlemmatize\u001b[0;34m(self, word, pos)\u001b[0m\n\u001b[1;32m     39\u001b[0m \u001b[0;34m\u001b[0m\u001b[0m\n\u001b[1;32m     40\u001b[0m     \u001b[0;32mdef\u001b[0m \u001b[0mlemmatize\u001b[0m\u001b[0;34m(\u001b[0m\u001b[0mself\u001b[0m\u001b[0;34m,\u001b[0m \u001b[0mword\u001b[0m\u001b[0;34m,\u001b[0m \u001b[0mpos\u001b[0m\u001b[0;34m=\u001b[0m\u001b[0mNOUN\u001b[0m\u001b[0;34m)\u001b[0m\u001b[0;34m:\u001b[0m\u001b[0;34m\u001b[0m\u001b[0;34m\u001b[0m\u001b[0m\n\u001b[0;32m---> 41\u001b[0;31m         \u001b[0mlemmas\u001b[0m \u001b[0;34m=\u001b[0m \u001b[0mwordnet\u001b[0m\u001b[0;34m.\u001b[0m\u001b[0m_morphy\u001b[0m\u001b[0;34m(\u001b[0m\u001b[0mword\u001b[0m\u001b[0;34m,\u001b[0m \u001b[0mpos\u001b[0m\u001b[0;34m)\u001b[0m\u001b[0;34m\u001b[0m\u001b[0;34m\u001b[0m\u001b[0m\n\u001b[0m\u001b[1;32m     42\u001b[0m         \u001b[0;32mreturn\u001b[0m \u001b[0mmin\u001b[0m\u001b[0;34m(\u001b[0m\u001b[0mlemmas\u001b[0m\u001b[0;34m,\u001b[0m \u001b[0mkey\u001b[0m\u001b[0;34m=\u001b[0m\u001b[0mlen\u001b[0m\u001b[0;34m)\u001b[0m \u001b[0;32mif\u001b[0m \u001b[0mlemmas\u001b[0m \u001b[0;32melse\u001b[0m \u001b[0mword\u001b[0m\u001b[0;34m\u001b[0m\u001b[0;34m\u001b[0m\u001b[0m\n\u001b[1;32m     43\u001b[0m \u001b[0;34m\u001b[0m\u001b[0m\n",
      "\u001b[0;32m~/miniconda3/lib/python3.7/site-packages/nltk/corpus/reader/wordnet.py\u001b[0m in \u001b[0;36m_morphy\u001b[0;34m(self, form, pos, check_exceptions)\u001b[0m\n\u001b[1;32m   1907\u001b[0m \u001b[0;34m\u001b[0m\u001b[0m\n\u001b[1;32m   1908\u001b[0m         \u001b[0;31m# 1. Apply rules once to the input to get y1, y2, y3, etc.\u001b[0m\u001b[0;34m\u001b[0m\u001b[0;34m\u001b[0m\u001b[0;34m\u001b[0m\u001b[0m\n\u001b[0;32m-> 1909\u001b[0;31m         \u001b[0mforms\u001b[0m \u001b[0;34m=\u001b[0m \u001b[0mapply_rules\u001b[0m\u001b[0;34m(\u001b[0m\u001b[0;34m[\u001b[0m\u001b[0mform\u001b[0m\u001b[0;34m]\u001b[0m\u001b[0;34m)\u001b[0m\u001b[0;34m\u001b[0m\u001b[0;34m\u001b[0m\u001b[0m\n\u001b[0m\u001b[1;32m   1910\u001b[0m \u001b[0;34m\u001b[0m\u001b[0m\n\u001b[1;32m   1911\u001b[0m         \u001b[0;31m# 2. Return all that are in the database (and check the original too)\u001b[0m\u001b[0;34m\u001b[0m\u001b[0;34m\u001b[0m\u001b[0;34m\u001b[0m\u001b[0m\n",
      "\u001b[0;32m~/miniconda3/lib/python3.7/site-packages/nltk/corpus/reader/wordnet.py\u001b[0m in \u001b[0;36mapply_rules\u001b[0;34m(forms)\u001b[0m\n\u001b[1;32m   1885\u001b[0m             return [\n\u001b[1;32m   1886\u001b[0m                 \u001b[0mform\u001b[0m\u001b[0;34m[\u001b[0m\u001b[0;34m:\u001b[0m \u001b[0;34m-\u001b[0m\u001b[0mlen\u001b[0m\u001b[0;34m(\u001b[0m\u001b[0mold\u001b[0m\u001b[0;34m)\u001b[0m\u001b[0;34m]\u001b[0m \u001b[0;34m+\u001b[0m \u001b[0mnew\u001b[0m\u001b[0;34m\u001b[0m\u001b[0;34m\u001b[0m\u001b[0m\n\u001b[0;32m-> 1887\u001b[0;31m                 \u001b[0;32mfor\u001b[0m \u001b[0mform\u001b[0m \u001b[0;32min\u001b[0m \u001b[0mforms\u001b[0m\u001b[0;34m\u001b[0m\u001b[0;34m\u001b[0m\u001b[0m\n\u001b[0m\u001b[1;32m   1888\u001b[0m                 \u001b[0;32mfor\u001b[0m \u001b[0mold\u001b[0m\u001b[0;34m,\u001b[0m \u001b[0mnew\u001b[0m \u001b[0;32min\u001b[0m \u001b[0msubstitutions\u001b[0m\u001b[0;34m\u001b[0m\u001b[0;34m\u001b[0m\u001b[0m\n\u001b[1;32m   1889\u001b[0m                 \u001b[0;32mif\u001b[0m \u001b[0mform\u001b[0m\u001b[0;34m.\u001b[0m\u001b[0mendswith\u001b[0m\u001b[0;34m(\u001b[0m\u001b[0mold\u001b[0m\u001b[0;34m)\u001b[0m\u001b[0;34m\u001b[0m\u001b[0;34m\u001b[0m\u001b[0m\n",
      "\u001b[0;32m~/miniconda3/lib/python3.7/site-packages/nltk/corpus/reader/wordnet.py\u001b[0m in \u001b[0;36m<listcomp>\u001b[0;34m(.0)\u001b[0m\n\u001b[1;32m   1887\u001b[0m                 \u001b[0;32mfor\u001b[0m \u001b[0mform\u001b[0m \u001b[0;32min\u001b[0m \u001b[0mforms\u001b[0m\u001b[0;34m\u001b[0m\u001b[0;34m\u001b[0m\u001b[0m\n\u001b[1;32m   1888\u001b[0m                 \u001b[0;32mfor\u001b[0m \u001b[0mold\u001b[0m\u001b[0;34m,\u001b[0m \u001b[0mnew\u001b[0m \u001b[0;32min\u001b[0m \u001b[0msubstitutions\u001b[0m\u001b[0;34m\u001b[0m\u001b[0;34m\u001b[0m\u001b[0m\n\u001b[0;32m-> 1889\u001b[0;31m                 \u001b[0;32mif\u001b[0m \u001b[0mform\u001b[0m\u001b[0;34m.\u001b[0m\u001b[0mendswith\u001b[0m\u001b[0;34m(\u001b[0m\u001b[0mold\u001b[0m\u001b[0;34m)\u001b[0m\u001b[0;34m\u001b[0m\u001b[0;34m\u001b[0m\u001b[0m\n\u001b[0m\u001b[1;32m   1890\u001b[0m             ]\n\u001b[1;32m   1891\u001b[0m \u001b[0;34m\u001b[0m\u001b[0m\n",
      "\u001b[0;31mKeyboardInterrupt\u001b[0m: "
     ]
    }
   ],
   "source": [
    "%%time\n",
    "# применяем функцию очистки текста\n",
    "df['cleaned_text'] = df['text'].map(clean_text) # ~ Wall time: 5min 34s"
   ]
  },
  {
   "cell_type": "code",
   "execution_count": 55,
   "metadata": {},
   "outputs": [
    {
     "data": {
      "text/html": [
       "<div>\n",
       "<style scoped>\n",
       "    .dataframe tbody tr th:only-of-type {\n",
       "        vertical-align: middle;\n",
       "    }\n",
       "\n",
       "    .dataframe tbody tr th {\n",
       "        vertical-align: top;\n",
       "    }\n",
       "\n",
       "    .dataframe thead th {\n",
       "        text-align: right;\n",
       "    }\n",
       "</style>\n",
       "<table border=\"1\" class=\"dataframe\">\n",
       "  <thead>\n",
       "    <tr style=\"text-align: right;\">\n",
       "      <th></th>\n",
       "      <th>text</th>\n",
       "      <th>title</th>\n",
       "      <th>cleaned_text</th>\n",
       "    </tr>\n",
       "  </thead>\n",
       "  <tbody>\n",
       "    <tr>\n",
       "      <td>0</td>\n",
       "      <td>Economists generally agree: China must overhau...</td>\n",
       "      <td>China and Economic Reform: Xi Jinping’s Track ...</td>\n",
       "      <td>economist gener agre china must overhaul huge ...</td>\n",
       "    </tr>\n",
       "    <tr>\n",
       "      <td>1</td>\n",
       "      <td>LONDON—British Prime Minister Theresa May said...</td>\n",
       "      <td>Trade to Be a Big Topic in Theresa May’s U.S. ...</td>\n",
       "      <td>london british prime minist theresa may said d...</td>\n",
       "    </tr>\n",
       "    <tr>\n",
       "      <td>2</td>\n",
       "      <td>Beaches come in all sorts of shapes and sizes ...</td>\n",
       "      <td>The Top Beaches In The World, According To Nat...</td>\n",
       "      <td>beach come sort shape size beyond typic caribb...</td>\n",
       "    </tr>\n",
       "    <tr>\n",
       "      <td>3</td>\n",
       "      <td>A timeline of what happened after Tamir Rice, ...</td>\n",
       "      <td>Sheriff’s Report Provides New Details on Tamir...</td>\n",
       "      <td>timelin happen tamir rice year old boy kill po...</td>\n",
       "    </tr>\n",
       "    <tr>\n",
       "      <td>4</td>\n",
       "      <td>An Italian neurosurgeon who has claimed for mo...</td>\n",
       "      <td>Surgeon claiming he will transplant volunteer'...</td>\n",
       "      <td>italian neurosurgeon claim month perform world...</td>\n",
       "    </tr>\n",
       "    <tr>\n",
       "      <td>5</td>\n",
       "      <td>Spanx does not do the thing I thought it did. ...</td>\n",
       "      <td>This Is How Differently Priced Spanx Can Actua...</td>\n",
       "      <td>spanx thing thought kristin like mani ladi lil...</td>\n",
       "    </tr>\n",
       "    <tr>\n",
       "      <td>6</td>\n",
       "      <td>“Jane Pauley! You’re all in leather,” said Sam...</td>\n",
       "      <td>Samantha Bee and Jane Pauley Are Breaking the ...</td>\n",
       "      <td>jane pauley leather said samantha bee pauley w...</td>\n",
       "    </tr>\n",
       "    <tr>\n",
       "      <td>7</td>\n",
       "      <td>Charles Krauthammer called President Trump's 5...</td>\n",
       "      <td>Krauthammer: Syria Strike 'Total Contradiction...</td>\n",
       "      <td>charl krauthamm call presid trump missil strik...</td>\n",
       "    </tr>\n",
       "    <tr>\n",
       "      <td>8</td>\n",
       "      <td>The United States is making more things than e...</td>\n",
       "      <td>Rust Belt voters made Trump president. Now the...</td>\n",
       "      <td>unit state make thing ever read right manufact...</td>\n",
       "    </tr>\n",
       "    <tr>\n",
       "      <td>9</td>\n",
       "      <td>As Jewish settlers and protesters were removed...</td>\n",
       "      <td>As Illegal Outpost Cleared, Israeli PM Netanya...</td>\n",
       "      <td>jewish settler protest remov illeg outpost occ...</td>\n",
       "    </tr>\n",
       "  </tbody>\n",
       "</table>\n",
       "</div>"
      ],
      "text/plain": [
       "                                                text  \\\n",
       "0  Economists generally agree: China must overhau...   \n",
       "1  LONDON—British Prime Minister Theresa May said...   \n",
       "2  Beaches come in all sorts of shapes and sizes ...   \n",
       "3  A timeline of what happened after Tamir Rice, ...   \n",
       "4  An Italian neurosurgeon who has claimed for mo...   \n",
       "5  Spanx does not do the thing I thought it did. ...   \n",
       "6  “Jane Pauley! You’re all in leather,” said Sam...   \n",
       "7  Charles Krauthammer called President Trump's 5...   \n",
       "8  The United States is making more things than e...   \n",
       "9  As Jewish settlers and protesters were removed...   \n",
       "\n",
       "                                               title  \\\n",
       "0  China and Economic Reform: Xi Jinping’s Track ...   \n",
       "1  Trade to Be a Big Topic in Theresa May’s U.S. ...   \n",
       "2  The Top Beaches In The World, According To Nat...   \n",
       "3  Sheriff’s Report Provides New Details on Tamir...   \n",
       "4  Surgeon claiming he will transplant volunteer'...   \n",
       "5  This Is How Differently Priced Spanx Can Actua...   \n",
       "6  Samantha Bee and Jane Pauley Are Breaking the ...   \n",
       "7  Krauthammer: Syria Strike 'Total Contradiction...   \n",
       "8  Rust Belt voters made Trump president. Now the...   \n",
       "9  As Illegal Outpost Cleared, Israeli PM Netanya...   \n",
       "\n",
       "                                        cleaned_text  \n",
       "0  economist gener agre china must overhaul huge ...  \n",
       "1  london british prime minist theresa may said d...  \n",
       "2  beach come sort shape size beyond typic caribb...  \n",
       "3  timelin happen tamir rice year old boy kill po...  \n",
       "4  italian neurosurgeon claim month perform world...  \n",
       "5  spanx thing thought kristin like mani ladi lil...  \n",
       "6  jane pauley leather said samantha bee pauley w...  \n",
       "7  charl krauthamm call presid trump missil strik...  \n",
       "8  unit state make thing ever read right manufact...  \n",
       "9  jewish settler protest remov illeg outpost occ...  "
      ]
     },
     "execution_count": 55,
     "metadata": {},
     "output_type": "execute_result"
    }
   ],
   "source": [
    "df.head(10)"
   ]
  },
  {
   "cell_type": "code",
   "execution_count": 124,
   "metadata": {},
   "outputs": [],
   "source": [
    "L = df['text'].values.shape[0]\n",
    "indices = [range(0,L//4),range(L//4, L//2), range(L//2, 3*L//4), range(3*L//4, L)]"
   ]
  },
  {
   "cell_type": "code",
   "execution_count": 125,
   "metadata": {},
   "outputs": [],
   "source": [
    "def thread_job(number, data):\n",
    "    buff = 'starting batch '+str(indices[number])\n",
    "    print(buff)\n",
    "    df.iloc[indices[number],3] = list(map(clean_text, data))\n",
    "    buff = 'finishing batch '+str(indices[number])\n",
    "    print(buff)"
   ]
  },
  {
   "cell_type": "code",
   "execution_count": 126,
   "metadata": {},
   "outputs": [],
   "source": [
    "def run_threads():\n",
    "    threads = [\n",
    "        threading.Thread(target=thread_job, args=(i,df['text'].values[indices[i]],))\n",
    "        for i in range(4)\n",
    "    ]\n",
    "    for thread in threads:\n",
    "        thread.start() \n",
    "    for thread in threads:\n",
    "        thread.join()"
   ]
  },
  {
   "cell_type": "code",
   "execution_count": null,
   "metadata": {},
   "outputs": [
    {
     "name": "stdout",
     "output_type": "stream",
     "text": [
      "starting batch range(0, 7629)\n",
      "starting batch range(7629, 15259)\n",
      "starting batch range(15259, 22888)\n",
      "starting batch range(22888, 30518)\n"
     ]
    }
   ],
   "source": [
    "%%time\n",
    "run_threads()"
   ]
  },
  {
   "cell_type": "markdown",
   "metadata": {},
   "source": [
    "# Задание 2\n",
    "\n",
    "Иногда бывает нужно узнать доступность набора ip адресов. Неэффективный вариант представлен ниже.\n",
    "\n",
    "Реализуйте то же самое, но используя threading."
   ]
  },
  {
   "cell_type": "code",
   "execution_count": 6,
   "metadata": {},
   "outputs": [],
   "source": [
    "import os, re"
   ]
  },
  {
   "cell_type": "code",
   "execution_count": 7,
   "metadata": {},
   "outputs": [
    {
     "name": "stdout",
     "output_type": "stream",
     "text": [
      "... pinging  192.168.178.20\n",
      "192.168.178.20: no response\n",
      "... pinging  192.168.178.21\n",
      "192.168.178.21: no response\n",
      "... pinging  192.168.178.22\n",
      "192.168.178.22: no response\n",
      "... pinging  192.168.178.23\n",
      "192.168.178.23: no response\n",
      "... pinging  192.168.178.24\n",
      "192.168.178.24: no response\n",
      "... pinging  192.168.178.25\n",
      "192.168.178.25: no response\n",
      "... pinging  192.168.178.26\n",
      "192.168.178.26: no response\n",
      "... pinging  192.168.178.27\n",
      "192.168.178.27: no response\n",
      "... pinging  192.168.178.28\n",
      "192.168.178.28: no response\n",
      "... pinging  192.168.178.29\n",
      "192.168.178.29: no response\n",
      "CPU times: user 0 ns, sys: 297 ms, total: 297 ms\n",
      "Wall time: 1min 50s\n"
     ]
    }
   ],
   "source": [
    "%%time\n",
    "\n",
    "\n",
    "received_packages = re.compile(r\"(\\d) received\")\n",
    "status = (\"no response\", \"alive but losses\", \"alive\")\n",
    "\n",
    "for suffix in range(20, 30):\n",
    "    ip = \"192.168.178.\" + str(suffix)\n",
    "    ping_out = os.popen(\"ping -q -c2 \" + ip, \"r\")  # получение вердикта\n",
    "    print(\"... pinging \", ip)\n",
    "    while True:\n",
    "        line = ping_out.readline()\n",
    "        if not line:\n",
    "            break\n",
    "        n_received = received_packages.findall(line)\n",
    "        if n_received:\n",
    "            print(ip + \": \" + status[int(n_received[0])])"
   ]
  },
  {
   "cell_type": "code",
   "execution_count": 8,
   "metadata": {},
   "outputs": [],
   "source": [
    "import threading\n",
    "import sys\n",
    "import time"
   ]
  },
  {
   "cell_type": "code",
   "execution_count": 23,
   "metadata": {},
   "outputs": [],
   "source": [
    "def thread_job(number, ranged):\n",
    "    received_packages = re.compile(r\"(\\d) received\")\n",
    "    status = (\"no response\", \"alive but losses\", \"alive\")\n",
    "\n",
    "    for suffix in ranged:\n",
    "        ip = \"192.168.178.\" + str(suffix)\n",
    "        ping_out = os.popen(\"ping -q -c2 \" + ip, \"r\")  # получение вердикта\n",
    "        print(\"... pinging \", ip)\n",
    "        while True:\n",
    "            line = ping_out.readline()\n",
    "            if not line:\n",
    "                break\n",
    "            n_received = received_packages.findall(line)\n",
    "            if n_received:\n",
    "                print(ip + \": \" + status[int(n_received[0])])\n",
    "\n",
    "ranges = [range(20,25),range(25,30)]\n",
    "def run_threads(count):\n",
    "    threads = [\n",
    "        threading.Thread(target=thread_job, args=(i,ranges[i]))\n",
    "        for i in range(0, count)\n",
    "    ]\n",
    "    for thread in threads:\n",
    "        thread.start() \n",
    "    for thread in threads:\n",
    "        thread.join()\n"
   ]
  },
  {
   "cell_type": "code",
   "execution_count": 24,
   "metadata": {},
   "outputs": [
    {
     "name": "stdout",
     "output_type": "stream",
     "text": [
      "... pinging  192.168.178.25\n",
      "... pinging  192.168.178.20\n",
      "192.168.178.25: no response\n",
      "... pinging  192.168.178.26\n",
      "192.168.178.20: no response\n",
      "... pinging  192.168.178.21\n",
      "192.168.178.26: no response\n",
      "... pinging  192.168.178.27\n",
      "192.168.178.21: no response\n",
      "... pinging  192.168.178.22\n",
      "192.168.178.27: no response\n",
      "... pinging  192.168.178.28\n",
      "192.168.178.22: no response\n",
      "... pinging  192.168.178.23\n",
      "192.168.178.28: no response\n",
      "192.168.178.23: no response\n",
      "... pinging  192.168.178.29\n",
      "... pinging  192.168.178.24\n",
      "192.168.178.29: no response\n",
      "192.168.178.24: no response\n",
      "CPU times: user 15.6 ms, sys: 328 ms, total: 344 ms\n",
      "Wall time: 55.5 s\n"
     ]
    }
   ],
   "source": [
    "%%time\n",
    "run_threads(2)"
   ]
  },
  {
   "cell_type": "markdown",
   "metadata": {},
   "source": [
    "# Задание 3\n",
    "\n",
    "= Упражнение №4 из лабы про мультипроцессинг"
   ]
  },
  {
   "cell_type": "code",
   "execution_count": 37,
   "metadata": {},
   "outputs": [],
   "source": [
    "import urllib.request\n",
    "import time\n",
    "\n",
    "urls = [\n",
    "    'https://www.yandex.ru', 'https://www.google.com',\n",
    "    'https://habrahabr.ru', 'https://www.python.org',\n",
    "    'https://isocpp.org',\n",
    "]\n",
    "\n",
    "\n",
    "def read_url(url):\n",
    "    \n",
    "    with urllib.request.urlopen(url) as u:\n",
    "        buff =  u.read()\n",
    "    print(url,'  ...OK')\n",
    "    return buff"
   ]
  },
  {
   "cell_type": "code",
   "execution_count": 38,
   "metadata": {},
   "outputs": [
    {
     "name": "stdout",
     "output_type": "stream",
     "text": [
      "https://www.yandex.ru   ...OK\n",
      "https://www.google.com   ...OK\n",
      "https://habrahabr.ru   ...OK\n",
      "https://www.python.org   ...OK\n",
      "https://isocpp.org   ...OK\n",
      "CPU times: user 109 ms, sys: 62.5 ms, total: 172 ms\n",
      "Wall time: 3.31 s\n"
     ]
    }
   ],
   "source": [
    "%%time\n",
    "for url in urls:\n",
    "    read_url(url)"
   ]
  },
  {
   "cell_type": "code",
   "execution_count": 39,
   "metadata": {},
   "outputs": [],
   "source": [
    "from multiprocessing import Process\n",
    "import os"
   ]
  },
  {
   "cell_type": "code",
   "execution_count": 40,
   "metadata": {},
   "outputs": [],
   "source": [
    "def thread_job(number, url):\n",
    "    read_url(url)\n",
    "def run_threads():\n",
    "    threads = [\n",
    "        threading.Thread(target=thread_job, args=(i,urls[i]))\n",
    "        for i in range(0, 5)\n",
    "    ]\n",
    "    for thread in threads:\n",
    "        thread.start() \n",
    "    for thread in threads:\n",
    "        thread.join()\n"
   ]
  },
  {
   "cell_type": "code",
   "execution_count": 41,
   "metadata": {},
   "outputs": [
    {
     "name": "stdout",
     "output_type": "stream",
     "text": [
      "https://www.google.com   ...OK\n",
      "https://www.python.org   ...OK\n",
      "https://habrahabr.ru   ...OK\n",
      "https://www.yandex.ru   ...OK\n",
      "https://isocpp.org   ...OK\n",
      "CPU times: user 78.1 ms, sys: 141 ms, total: 219 ms\n",
      "Wall time: 1.86 s\n"
     ]
    }
   ],
   "source": [
    "%%time\n",
    "run_threads()"
   ]
  },
  {
   "cell_type": "code",
   "execution_count": 42,
   "metadata": {},
   "outputs": [],
   "source": [
    "from multiprocessing import Process"
   ]
  },
  {
   "cell_type": "code",
   "execution_count": 43,
   "metadata": {},
   "outputs": [],
   "source": [
    "def run_processes():\n",
    "    processes = [\n",
    "        Process(target=read_url, args=(urls[i],))\n",
    "        for i in range(0, 5)\n",
    "    ]\n",
    "    for proc in processes:\n",
    "        proc.start() \n",
    "    for proc in processes:\n",
    "        proc.join()"
   ]
  },
  {
   "cell_type": "code",
   "execution_count": 44,
   "metadata": {},
   "outputs": [
    {
     "name": "stdout",
     "output_type": "stream",
     "text": [
      "https://www.google.com   ...OK\n",
      "https://www.yandex.ru   ...OK\n",
      "https://www.python.org   ...OK\n",
      "https://habrahabr.ru   ...OK\n",
      "https://isocpp.org   ...OK\n",
      "CPU times: user 0 ns, sys: 266 ms, total: 266 ms\n",
      "Wall time: 1.6 s\n"
     ]
    }
   ],
   "source": [
    "%%time\n",
    "run_processes()"
   ]
  },
  {
   "cell_type": "markdown",
   "metadata": {},
   "source": [
    "дедлайн по ДЗ8 - вечер следующего вс 3.11.2019 23:59. Удачи!"
   ]
  }
 ],
 "metadata": {
  "kernel_info": {
   "name": "python3"
  },
  "kernelspec": {
   "display_name": "Python 3",
   "language": "python",
   "name": "python3"
  },
  "language_info": {
   "codemirror_mode": {
    "name": "ipython",
    "version": 3
   },
   "file_extension": ".py",
   "mimetype": "text/x-python",
   "name": "python",
   "nbconvert_exporter": "python",
   "pygments_lexer": "ipython3",
   "version": "3.7.3"
  },
  "nteract": {
   "version": "0.15.0"
  }
 },
 "nbformat": 4,
 "nbformat_minor": 2
}
