{
  "cells": [
    {
      "cell_type": "markdown",
      "source": [
        "# Домашнее задание 4"
      ],
      "metadata": {}
    },
    {
      "cell_type": "markdown",
      "source": [
        "## Задача 1"
      ],
      "metadata": {}
    },
    {
      "cell_type": "code",
      "source": [
        "%%writefile 'task1.py'\n",
        "\n",
        "\n",
        "import argparse\n",
        "import sys\n",
        "\n",
        "def get_arr():\n",
        "    parser = argparse.ArgumentParser()\n",
        "    parser.add_argument ('p', nargs='?')\n",
        "    parser.add_argument('-n')\n",
        "    args = parser.parse_args()\n",
        "    return args.p if (args.n is None) else (args.n if (args.p is None) else None)\n",
        "        \n",
        "\n",
        "def fib(N):\n",
        "    fib_numbers = [0,1]\n",
        "    if N <= 0:\n",
        "        raise KeyBoardInterrupt\n",
        "    if N <= len(fib_numbers): \n",
        "        return fib_numbers[N-1] \n",
        "    else: \n",
        "        fib_numbers.append(fib(N-1)+fib(N-2)) \n",
        "        return fib_numbers[-1]\n",
        "try:\n",
        "\n",
        "    N = int(get_arr())\n",
        "    print(fib(N))\n",
        "except:\n",
        "    print('Ошибка! \\n аргументы указаны неверно') \n"
      ],
      "outputs": [
        {
          "output_type": "stream",
          "name": "stdout",
          "text": [
            "Overwriting task1.py\n"
          ]
        }
      ],
      "execution_count": 103,
      "metadata": {}
    },
    {
      "cell_type": "code",
      "source": [
        "!python3 task1.py ljj"
      ],
      "outputs": [
        {
          "output_type": "stream",
          "name": "stdout",
          "text": [
            "Ошибка! \r\n",
            " аргументы указаны неверно\r\n"
          ]
        }
      ],
      "execution_count": 108,
      "metadata": {}
    },
    {
      "cell_type": "code",
      "source": [
        "!python3 task1.py 0"
      ],
      "outputs": [
        {
          "output_type": "stream",
          "name": "stdout",
          "text": [
            "Ошибка! \r\n",
            " аргументы указаны неверно\r\n"
          ]
        }
      ],
      "execution_count": 109,
      "metadata": {}
    },
    {
      "cell_type": "code",
      "source": [
        "!python3 task1.py 1"
      ],
      "outputs": [
        {
          "output_type": "stream",
          "name": "stdout",
          "text": [
            "0\r\n"
          ]
        }
      ],
      "execution_count": 110,
      "metadata": {}
    },
    {
      "cell_type": "code",
      "source": [
        "!python3 task1.py 5"
      ],
      "outputs": [
        {
          "output_type": "stream",
          "name": "stdout",
          "text": [
            "3\r\n"
          ]
        }
      ],
      "execution_count": 111,
      "metadata": {}
    },
    {
      "cell_type": "code",
      "source": [
        "!python3 task1.py -n 0"
      ],
      "outputs": [
        {
          "output_type": "stream",
          "name": "stdout",
          "text": [
            "Ошибка! \r\n",
            " аргументы указаны неверно\r\n"
          ]
        }
      ],
      "execution_count": 112,
      "metadata": {}
    },
    {
      "cell_type": "code",
      "source": [
        "!python3 task1.py -n lkk"
      ],
      "outputs": [
        {
          "output_type": "stream",
          "name": "stdout",
          "text": [
            "Ошибка! \r\n",
            " аргументы указаны неверно\r\n"
          ]
        }
      ],
      "execution_count": 113,
      "metadata": {}
    },
    {
      "cell_type": "code",
      "source": [
        "!python3 task1.py -n 1"
      ],
      "outputs": [
        {
          "output_type": "stream",
          "name": "stdout",
          "text": [
            "0\r\n"
          ]
        }
      ],
      "execution_count": 114,
      "metadata": {}
    },
    {
      "cell_type": "code",
      "source": [
        "!python3 task1.py"
      ],
      "outputs": [
        {
          "output_type": "stream",
          "name": "stdout",
          "text": [
            "Ошибка! \r\n",
            " аргументы указаны неверно\r\n"
          ]
        }
      ],
      "execution_count": 115,
      "metadata": {}
    },
    {
      "cell_type": "code",
      "source": [
        "!python3 task1.py 1 -n 1"
      ],
      "outputs": [
        {
          "output_type": "stream",
          "name": "stdout",
          "text": [
            "Ошибка! \r\n",
            " аргументы указаны неверно\r\n"
          ]
        }
      ],
      "execution_count": 116,
      "metadata": {}
    },
    {
      "cell_type": "markdown",
      "source": [
        "## Упражнение 2\n",
        "Напишите функцию, которая получает на вход список чисел и выдает ответ сколько в данном списке четных чисел. Напишите декоратор, который меняет поведение функции следующим образом: если четных чисел нет, то пишет \"Нет(\" а если их больше 10, то пишет \"Очень много\""
      ],
      "metadata": {}
    },
    {
      "cell_type": "code",
      "source": [
        "%%writefile 'task2.py'\n",
        "\n",
        "import sys\n",
        "import io\n",
        "from functools import reduce\n",
        "\n",
        "def dec2(f):\n",
        "    def w(x):\n",
        "        with io.StringIO() as buff:\n",
        "            sys.stdout = buff        \n",
        "            f(x)\n",
        "            res = int(buff.getvalue())\n",
        "        sys.stdout = sys.__stdout__\n",
        "        if res==0:\n",
        "            res = 'Нет('\n",
        "        elif res>10:\n",
        "            res = 'Очень много'\n",
        "        else:\n",
        "            res = str(res)\n",
        "        print(res)\n",
        "    return w\n",
        "        \n",
        "        \n",
        "@dec2       \n",
        "def is_odd(x):\n",
        "    print(reduce(lambda a,y: int(a) + (int(y)+1)%2, [0]+x))\n",
        "\n",
        "is_odd(sys.argv[1:])"
      ],
      "outputs": [
        {
          "output_type": "stream",
          "name": "stdout",
          "text": [
            "Overwriting task2.py\n"
          ]
        }
      ],
      "execution_count": 159,
      "metadata": {}
    },
    {
      "cell_type": "code",
      "source": [
        "!python3 task2.py 1 4 3 5"
      ],
      "outputs": [
        {
          "output_type": "stream",
          "name": "stdout",
          "text": [
            "1\r\n"
          ]
        }
      ],
      "execution_count": 163,
      "metadata": {}
    },
    {
      "cell_type": "code",
      "source": [
        "!python3 task2.py 1 35 7"
      ],
      "outputs": [
        {
          "output_type": "stream",
          "name": "stdout",
          "text": [
            "Нет(\r\n"
          ]
        }
      ],
      "execution_count": 164,
      "metadata": {}
    },
    {
      "cell_type": "code",
      "source": [
        "!python3 task2.py 2 4 6 8 10 12 14 16 18 20 22 1"
      ],
      "outputs": [
        {
          "output_type": "stream",
          "name": "stdout",
          "text": [
            "Очень много\r\n"
          ]
        }
      ],
      "execution_count": 167,
      "metadata": {}
    },
    {
      "cell_type": "code",
      "source": [
        "[1,2,3][-2::-1]"
      ],
      "outputs": [
        {
          "output_type": "execute_result",
          "execution_count": 176,
          "data": {
            "text/plain": [
              "[2, 1]"
            ]
          },
          "metadata": {}
        }
      ],
      "execution_count": 176,
      "metadata": {}
    },
    {
      "cell_type": "markdown",
      "source": [
        "## Упражнение 3 \n",
        "Напишите декоратор swap, который делает так, что задекорированная функция принимает все свои неименованные аргументы в порядке, обратном тому, в котором их передали (для аргументов с именем не вполне правильно учитывать порядок, в котором они были переданы)."
      ],
      "metadata": {}
    },
    {
      "cell_type": "code",
      "source": [
        "%%writefile 'task3.py'\n",
        "\n",
        "import ast\n",
        "import sys\n",
        "\n",
        "def swap(f):\n",
        "    def wrapper(x):\n",
        "        if len(x)==2:\n",
        "            x.append('True')\n",
        "        f(*map(int, x[-2::-1]), ast.literal_eval(x[2]))\n",
        "    return wrapper\n",
        "\n",
        "@swap\n",
        "def div(x,y, show=True):\n",
        "    res = x / y\n",
        "    if show:\n",
        "        print(res)\n",
        "    return res\n",
        "\n",
        "div(sys.argv[1:])"
      ],
      "outputs": [
        {
          "output_type": "stream",
          "name": "stdout",
          "text": [
            "Overwriting task3.py\n"
          ]
        }
      ],
      "execution_count": 224,
      "metadata": {}
    },
    {
      "cell_type": "code",
      "source": [
        "!python3 task3.py 1 4"
      ],
      "outputs": [
        {
          "output_type": "stream",
          "name": "stdout",
          "text": [
            "4.0\r\n"
          ]
        }
      ],
      "execution_count": 227,
      "metadata": {}
    },
    {
      "cell_type": "code",
      "source": [
        "!python3 task3.py 8 4 True"
      ],
      "outputs": [
        {
          "output_type": "stream",
          "name": "stdout",
          "text": [
            "0.5\r\n"
          ]
        }
      ],
      "execution_count": 229,
      "metadata": {}
    },
    {
      "cell_type": "code",
      "source": [
        "!python3 task3.py 8 4 False"
      ],
      "outputs": [],
      "execution_count": 230,
      "metadata": {}
    },
    {
      "cell_type": "markdown",
      "source": [
        "## Упражнение 4\n",
        "Напишите декоратор, который принимает в качестве аргумента путь к файлу. Если данный декоратор добавить к функции, то в указанный файл будет логироваться информация вида:\n",
        "Время вызова функции\n",
        "Входящие аргументы\n",
        "Ответ return (если есть, если нет то логгировать '-')\n",
        "Время завершения работы функции\n",
        "Время работы функции"
      ],
      "metadata": {}
    },
    {
      "cell_type": "code",
      "source": [
        "import sys\n",
        "from datetime import datetime\n",
        "import logging \n",
        "def dec_factory4(path):\n",
        "    def decorator(function):\n",
        "        def wrapper(*args, **kwargs):\n",
        "            with open(path, 'a+') as logg:\n",
        "                start_time = datetime.now()\n",
        "                logg.write('\\n')\n",
        "                logg.write(\"Время вызова: {} \\n\".format(start_time.strftime('%Y-%m-%d в %H:%M:%S')))\n",
        "                res = function(*args, **kwargs)\n",
        "                finish_time = datetime.now()\n",
        "                if res is None:\n",
        "                    res = '-'\n",
        "                else:\n",
        "                    try:\n",
        "                        res = str(res)\n",
        "                    except:\n",
        "                        res = 'Объект, возвращаемый функцией не поддерживает метод str \\n'\n",
        "                    \n",
        "                logg.write(\"Входящие аргументы: позиционные аргументы: {} по умолчанию: {}; именнованные: {}, по умолчанию: {} \\n\".format(args,function.__defaults__, kwargs, function.__kwdefaults__))\n",
        "                logg.write('Ответ: {} \\n'.format( str(res)))\n",
        "                logg.write(\"Время завершения работы функции: {} \\n\".format(finish_time.strftime('%Y-%m-%d в %H:%M:%S')))\n",
        "                logg.write(\"Время работы функции: {} сек\\n\".format((finish_time - start_time)))\n",
        "    \n",
        "            return None\n",
        "        return wrapper\n",
        "    return decorator\n",
        "\n",
        "@dec_factory4('kek.txt')\n",
        "def fh(x,y,z, buff='kek'):\n",
        "    print(x+y+z,buff)\n",
        "    \n",
        "@dec_factory4('kek.txt')\n",
        "def fh2(a,b):\n",
        "    return(a+b)\n",
        "fh(1,2,3)\n",
        "fh2(1337,9)"
      ],
      "outputs": [
        {
          "output_type": "stream",
          "name": "stdout",
          "text": [
            "6 kek\n"
          ]
        }
      ],
      "execution_count": 324,
      "metadata": {}
    },
    {
      "cell_type": "code",
      "source": [
        "!cat kek.txt"
      ],
      "outputs": [
        {
          "output_type": "stream",
          "name": "stdout",
          "text": [
            "\r\n",
            "Время вызова: 2019-10-04 в 00:39:07 \r\n",
            "Входящие аргументы: позиционные аргументы: (1, 2, 3) по умолчанию: ('kek',); именнованные: {}, по умолчанию: None \r\n",
            "Ответ: - \r\n",
            "Время завершения работы функции: 2019-10-04 в 00:39:07 \r\n",
            "Время работы функции: 0:00:00.000275 сек\r\n",
            "\r\n",
            "Время вызова: 2019-10-04 в 00:39:07 \r\n",
            "Входящие аргументы: позиционные аргументы: (1337, 9) по умолчанию: None; именнованные: {}, по умолчанию: None \r\n",
            "Ответ: 1346 \r\n",
            "Время завершения работы функции: 2019-10-04 в 00:39:07 \r\n",
            "Время работы функции: 0:00:00.000051 сек\r\n"
          ]
        }
      ],
      "execution_count": 325,
      "metadata": {}
    }
  ],
  "metadata": {
    "kernelspec": {
      "name": "python3",
      "language": "python",
      "display_name": "Python 3"
    },
    "language_info": {
      "name": "python",
      "version": "3.6.4",
      "mimetype": "text/x-python",
      "codemirror_mode": {
        "name": "ipython",
        "version": 3
      },
      "pygments_lexer": "ipython3",
      "nbconvert_exporter": "python",
      "file_extension": ".py"
    },
    "kernel_info": {
      "name": "python3"
    },
    "nteract": {
      "version": "0.15.0"
    }
  },
  "nbformat": 4,
  "nbformat_minor": 2
}