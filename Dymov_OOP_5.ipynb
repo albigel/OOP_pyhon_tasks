{
  "cells": [
    {
      "cell_type": "markdown",
      "source": [
        "## Домашняя работа 5"
      ],
      "metadata": {}
    },
    {
      "cell_type": "code",
      "source": [
        "import random\n",
        "class Player:\n",
        "    def __init__(self):\n",
        "        random.seed()\n",
        "        self.HP = 100\n",
        "        self.Mana = 100\n",
        "        self.lvl = 1\n",
        "        self.atck = 1\n",
        "        self.deff = 1\n",
        "        self._itd = 'итд'\n",
        "    def lvl_up(self, lvl=1):\n",
        "        self.lvl += lvl\n",
        "        self.deff +=1\n",
        "        self.atck +=1\n",
        "        self.HP = 100\n",
        "        self.Mana = 100\n",
        "    def debuf(self):\n",
        "        if self.deff > 1 and random.randint(0, 1):\n",
        "            self.deff -= 1\n",
        "        if self.atck >1 and random.randint(0, 1):\n",
        "            self.atck -= 1\n",
        "    def buf(self):\n",
        "        if random.randint(0, 2) == 0:\n",
        "            self.deff += 1\n",
        "        if random.randint(0, 2) == 0:\n",
        "            self.atck += 1\n",
        "    def fireball(self, strength = 1):\n",
        "        buff = self.Mana - 10*strength\n",
        "        if buff>0:\n",
        "            self.Mana = buff\n",
        "        else:\n",
        "            while buff<0:\n",
        "                strength -= 1\n",
        "                if strength == 0:\n",
        "                    print('нет маны метнуть даже xxxxxxs фаербол(')\n",
        "                    return\n",
        "                buff = self.Mana - 10*strength\n",
        "            print('метнуть фаербол нужной силы не вышло, но на фаербол силы ', strength, 'хватило')\n",
        "            self.Mana = buff\n",
        "    def hit_me(self, dmg=10):\n",
        "        buff = self.HP - dmg\n",
        "        if buff > 0:\n",
        "            self.HP = buff\n",
        "        else:\n",
        "            print('Тебя чуть было не убили, но (какая радость) пролетавший мимо гном на единороге напоил тебя живой водой и весь урон взяла на себя печень -- а она заколдована. Белка продолжается.')"
      ],
      "outputs": [],
      "execution_count": 83,
      "metadata": {
        "collapsed": false,
        "outputHidden": false,
        "inputHidden": false
      }
    },
    {
      "cell_type": "code",
      "source": [
        "Roger = Player()\n",
        "Roger.__dict__\n"
      ],
      "outputs": [
        {
          "output_type": "execute_result",
          "execution_count": 84,
          "data": {
            "text/plain": [
              "{'HP': 100, 'Mana': 100, '_itd': 'итд', 'atck': 1, 'deff': 1, 'lvl': 1}"
            ]
          },
          "metadata": {}
        }
      ],
      "execution_count": 84,
      "metadata": {
        "collapsed": false,
        "outputHidden": false,
        "inputHidden": false
      }
    },
    {
      "cell_type": "code",
      "source": [
        "Roger.lvl_up()\n",
        "Roger.__dict__"
      ],
      "outputs": [
        {
          "output_type": "execute_result",
          "execution_count": 85,
          "data": {
            "text/plain": [
              "{'HP': 100, 'Mana': 100, '_itd': 'итд', 'atck': 2, 'deff': 2, 'lvl': 2}"
            ]
          },
          "metadata": {}
        }
      ],
      "execution_count": 85,
      "metadata": {
        "collapsed": false,
        "outputHidden": false,
        "inputHidden": false
      }
    },
    {
      "cell_type": "code",
      "source": [
        "Roger.buf()\n",
        "Roger.__dict__"
      ],
      "outputs": [
        {
          "output_type": "execute_result",
          "execution_count": 86,
          "data": {
            "text/plain": [
              "{'HP': 100, 'Mana': 100, '_itd': 'итд', 'atck': 3, 'deff': 2, 'lvl': 2}"
            ]
          },
          "metadata": {}
        }
      ],
      "execution_count": 86,
      "metadata": {
        "collapsed": false,
        "outputHidden": false,
        "inputHidden": false
      }
    },
    {
      "cell_type": "code",
      "source": [
        "Roger.buf()\n",
        "Roger.__dict__"
      ],
      "outputs": [
        {
          "output_type": "execute_result",
          "execution_count": 87,
          "data": {
            "text/plain": [
              "{'HP': 100, 'Mana': 100, '_itd': 'итд', 'atck': 3, 'deff': 2, 'lvl': 2}"
            ]
          },
          "metadata": {}
        }
      ],
      "execution_count": 87,
      "metadata": {
        "collapsed": false,
        "outputHidden": false,
        "inputHidden": false
      }
    },
    {
      "cell_type": "code",
      "source": [
        "Roger.debuf()\n",
        "Roger.__dict__"
      ],
      "outputs": [
        {
          "output_type": "execute_result",
          "execution_count": 88,
          "data": {
            "text/plain": [
              "{'HP': 100, 'Mana': 100, '_itd': 'итд', 'atck': 3, 'deff': 1, 'lvl': 2}"
            ]
          },
          "metadata": {}
        }
      ],
      "execution_count": 88,
      "metadata": {
        "collapsed": false,
        "outputHidden": false,
        "inputHidden": false
      }
    },
    {
      "cell_type": "code",
      "source": [
        "Roger.debuf()\n",
        "Roger.__dict__"
      ],
      "outputs": [
        {
          "output_type": "execute_result",
          "execution_count": 89,
          "data": {
            "text/plain": [
              "{'HP': 100, 'Mana': 100, '_itd': 'итд', 'atck': 2, 'deff': 1, 'lvl': 2}"
            ]
          },
          "metadata": {}
        }
      ],
      "execution_count": 89,
      "metadata": {
        "collapsed": false,
        "outputHidden": false,
        "inputHidden": false
      }
    },
    {
      "cell_type": "code",
      "source": [
        "Roger.hit_me(10)\n",
        "Roger.__dict__"
      ],
      "outputs": [
        {
          "output_type": "execute_result",
          "execution_count": 90,
          "data": {
            "text/plain": [
              "{'HP': 90, 'Mana': 100, '_itd': 'итд', 'atck': 2, 'deff': 1, 'lvl': 2}"
            ]
          },
          "metadata": {}
        }
      ],
      "execution_count": 90,
      "metadata": {
        "collapsed": false,
        "outputHidden": false,
        "inputHidden": false
      }
    },
    {
      "cell_type": "code",
      "source": [
        "Roger.hit_me(100)\n",
        "Roger.__dict__"
      ],
      "outputs": [
        {
          "output_type": "stream",
          "name": "stdout",
          "text": [
            "Тебя чуть было не убили, но (какая радость) пролетавший мимо гном на единороге напоил тебя живой водой и весь урон взяла на себя печень -- а она заколдована. Белка продолжается.\n"
          ]
        },
        {
          "output_type": "execute_result",
          "execution_count": 91,
          "data": {
            "text/plain": [
              "{'HP': 90, 'Mana': 100, '_itd': 'итд', 'atck': 2, 'deff': 1, 'lvl': 2}"
            ]
          },
          "metadata": {}
        }
      ],
      "execution_count": 91,
      "metadata": {
        "collapsed": false,
        "outputHidden": false,
        "inputHidden": false
      }
    },
    {
      "cell_type": "code",
      "source": [
        "Roger.fireball(1)\n",
        "Roger.__dict__"
      ],
      "outputs": [
        {
          "output_type": "execute_result",
          "execution_count": 92,
          "data": {
            "text/plain": [
              "{'HP': 90, 'Mana': 90, '_itd': 'итд', 'atck': 2, 'deff': 1, 'lvl': 2}"
            ]
          },
          "metadata": {}
        }
      ],
      "execution_count": 92,
      "metadata": {
        "collapsed": false,
        "outputHidden": false,
        "inputHidden": false
      }
    },
    {
      "cell_type": "code",
      "source": [
        "Roger.fireball(10)\n",
        "Roger.__dict__"
      ],
      "outputs": [
        {
          "output_type": "stream",
          "name": "stdout",
          "text": [
            "метнуть фаербол нужной силы не вышло, но на фаербол силы  9 хватило\n"
          ]
        },
        {
          "output_type": "execute_result",
          "execution_count": 93,
          "data": {
            "text/plain": [
              "{'HP': 90, 'Mana': 0, '_itd': 'итд', 'atck': 2, 'deff': 1, 'lvl': 2}"
            ]
          },
          "metadata": {}
        }
      ],
      "execution_count": 93,
      "metadata": {
        "collapsed": false,
        "outputHidden": false,
        "inputHidden": false
      }
    },
    {
      "cell_type": "code",
      "source": [
        "Roger.lvl_up()\n",
        "Roger.__dict__"
      ],
      "outputs": [
        {
          "output_type": "execute_result",
          "execution_count": 94,
          "data": {
            "text/plain": [
              "{'HP': 100, 'Mana': 100, '_itd': 'итд', 'atck': 3, 'deff': 2, 'lvl': 3}"
            ]
          },
          "metadata": {}
        }
      ],
      "execution_count": 94,
      "metadata": {
        "collapsed": false,
        "outputHidden": false,
        "inputHidden": false
      }
    }
  ],
  "metadata": {
    "kernel_info": {
      "name": "python3"
    },
    "language_info": {
      "name": "python",
      "version": "3.6.4",
      "mimetype": "text/x-python",
      "codemirror_mode": {
        "name": "ipython",
        "version": 3
      },
      "pygments_lexer": "ipython3",
      "nbconvert_exporter": "python",
      "file_extension": ".py"
    },
    "kernelspec": {
      "name": "python3",
      "language": "python",
      "display_name": "Python 3"
    },
    "nteract": {
      "version": "0.15.0"
    }
  },
  "nbformat": 4,
  "nbformat_minor": 0
}