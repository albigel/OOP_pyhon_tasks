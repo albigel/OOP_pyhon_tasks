{
 "cells": [
  {
   "cell_type": "markdown",
   "metadata": {},
   "source": [
    "# Задача 1\n",
    "\n",
    "Реализуйте свой класс Complex для комплексных чисел, аналогично встроенной реализации complex: 1. Добавьте конструктор класса 2. Реализуйте операции проверки на равенство, сложения, вычитания, произведения и деления комплексных чисел (eq, add, sub, mul, truediv) 3. Реализуйте операцию модуля (abs, вызываемую как |c|) 4. Оба класса должны давать осмысленный вывод как при print, так и просто при вызове в ячейке\n",
    "\n",
    "p.s. обязательно использовать магические методы (см лабу)"
   ]
  },
  {
   "cell_type": "code",
   "execution_count": 37,
   "metadata": {},
   "outputs": [],
   "source": [
    "class Complex:\n",
    "    def __init__(self, Re, Im):\n",
    "        self.Re = Re\n",
    "        self.Im = Im\n",
    "    def __eq__(self,z2):\n",
    "        return (self.Re == z2.Re) and (self.Im == z2.Im)\n",
    "    def __sub__(self, z2):\n",
    "        return Complex(self.Re - z2.Re, self.Im - z2.Im)\n",
    "    def __add__(self, z2):\n",
    "        return Complex(self.Re + z2.Re, self.Im + z2.Im)\n",
    "    def __mul__(self, z2):\n",
    "        a1,a2,b1,b2 = self.Re, z2.Re, self.Im, z2.Im\n",
    "        return Complex(a1*a2 - b1*b2, a1*b2 + b1*a2)\n",
    "    def __abs__(self):\n",
    "        return (self.Re**2 + self.Im**2)**0.5\n",
    "    def __truediv__(self, z2):\n",
    "        a1,a2,b1,b2 = self.Re, z2.Re, self.Im, z2.Im \n",
    "        mod2 = a2**2 + b2**2\n",
    "        return Complex((a1*a2 + b1*b2)/mod2, (a2*b1-a1*b2)/mod2)\n",
    "    def __repr__(self):\n",
    "        return '{} + {}⋅i'.format(self.Re, self.Im)\n",
    "    def __str__(self):\n",
    "        return '{} + {}⋅i'.format(self.Re, self.Im)"
   ]
  },
  {
   "cell_type": "code",
   "execution_count": 38,
   "metadata": {},
   "outputs": [
    {
     "data": {
      "text/plain": [
       "1 + 2⋅i"
      ]
     },
     "execution_count": 38,
     "metadata": {},
     "output_type": "execute_result"
    }
   ],
   "source": [
    "Complex(1,2)"
   ]
  },
  {
   "cell_type": "code",
   "execution_count": 20,
   "metadata": {},
   "outputs": [
    {
     "name": "stdout",
     "output_type": "stream",
     "text": [
      "1 + 2⋅i\n"
     ]
    }
   ],
   "source": [
    "print(Complex(1,2))"
   ]
  },
  {
   "cell_type": "code",
   "execution_count": 21,
   "metadata": {},
   "outputs": [
    {
     "data": {
      "text/plain": [
       "-2 + 1⋅i"
      ]
     },
     "execution_count": 21,
     "metadata": {},
     "output_type": "execute_result"
    }
   ],
   "source": [
    "Complex(1,2) - Complex(3,1)"
   ]
  },
  {
   "cell_type": "code",
   "execution_count": 22,
   "metadata": {},
   "outputs": [
    {
     "data": {
      "text/plain": [
       "4 + 3⋅i"
      ]
     },
     "execution_count": 22,
     "metadata": {},
     "output_type": "execute_result"
    }
   ],
   "source": [
    "Complex(1,2) + Complex(3,1)"
   ]
  },
  {
   "cell_type": "code",
   "execution_count": 28,
   "metadata": {},
   "outputs": [
    {
     "data": {
      "text/plain": [
       "0.5 + 0.5⋅i"
      ]
     },
     "execution_count": 28,
     "metadata": {},
     "output_type": "execute_result"
    }
   ],
   "source": [
    "Complex(1,2) / Complex(3,1)"
   ]
  },
  {
   "cell_type": "code",
   "execution_count": 24,
   "metadata": {},
   "outputs": [
    {
     "data": {
      "text/plain": [
       "1 + 7⋅i"
      ]
     },
     "execution_count": 24,
     "metadata": {},
     "output_type": "execute_result"
    }
   ],
   "source": [
    "Complex(1,2) * Complex(3,1)"
   ]
  },
  {
   "cell_type": "code",
   "execution_count": 30,
   "metadata": {},
   "outputs": [
    {
     "data": {
      "text/plain": [
       "5.0"
      ]
     },
     "execution_count": 30,
     "metadata": {},
     "output_type": "execute_result"
    }
   ],
   "source": [
    "abs(Complex(3,4))"
   ]
  },
  {
   "cell_type": "code",
   "execution_count": 33,
   "metadata": {},
   "outputs": [
    {
     "data": {
      "text/plain": [
       "True"
      ]
     },
     "execution_count": 33,
     "metadata": {},
     "output_type": "execute_result"
    }
   ],
   "source": [
    "Complex(3,4) == Complex(3,4)"
   ]
  },
  {
   "cell_type": "code",
   "execution_count": 34,
   "metadata": {},
   "outputs": [
    {
     "data": {
      "text/plain": [
       "False"
      ]
     },
     "execution_count": 34,
     "metadata": {},
     "output_type": "execute_result"
    }
   ],
   "source": [
    "Complex(1,4) == Complex(3,4)"
   ]
  },
  {
   "cell_type": "markdown",
   "metadata": {},
   "source": [
    "# Задача 2\n",
    "\n",
    "Реализуйте свой класс 2-мерных векторов (похожа на задачу 1):\n",
    "- 1. Добавьте конструктор класса\n",
    "- 2. Реализуйте операции проверки на равенство векторов, сложения , вычитания, произведение вектора на число.\n",
    "- 3. Реализуйте операцию модуля (abs, вызываемую как |c|)\n",
    "- 4. Оба класса должны давать осмысленный вывод как при print, так и просто при вызове в ячейке"
   ]
  },
  {
   "cell_type": "markdown",
   "metadata": {},
   "source": [
    ">См Задачу 4"
   ]
  },
  {
   "cell_type": "markdown",
   "metadata": {},
   "source": [
    "# Задача 3\n",
    "\n",
    "Аналогично задаче 2 написать класс 3хмерных векторов."
   ]
  },
  {
   "cell_type": "markdown",
   "metadata": {},
   "source": [
    ">См Задачу 4"
   ]
  },
  {
   "cell_type": "markdown",
   "metadata": {},
   "source": [
    "# Задача 4\n",
    "\n",
    "Аналогично задачам 2 и 3 написать класс N-мерных (n вводится при создании экземпляра класса) векторов."
   ]
  },
  {
   "cell_type": "code",
   "execution_count": 606,
   "metadata": {},
   "outputs": [],
   "source": [
    "class Vector:\n",
    "    def __init__(self, *args, shape = 'c'):\n",
    "        '''\n",
    "            shape = 'c' - column\n",
    "            shape = 'r' - row\n",
    "        '''\n",
    "        if len(args) == 0:\n",
    "            raise Exception('Err! zero-dim vector')\n",
    "        if len(args) == 1:\n",
    "            if not (hasattr(args[0], \"__getitem__\")):\n",
    "                self.values = list(args)\n",
    "            else:\n",
    "                try:\n",
    "                    #print(list(args[0]))\n",
    "                    self.values = list(args[0])\n",
    "                except:\n",
    "                    raise Exception('Err! Unsupported argument for Vector')\n",
    "        else:\n",
    "            self.values = list(args)\n",
    "                #if all([self.values])\n",
    "        if shape == 'c':\n",
    "            self.shape = (len(self.values), 1, 'c')\n",
    "        elif shape == 'r':\n",
    "            self.shape = (1, len(self.values), 'r')\n",
    "        if self.shape[1]==self.shape[0]:\n",
    "            self.shape = (1,1,'cr')\n",
    "        \n",
    "        #print(self.values)\n",
    "    \n",
    "    def __eq__(self, v2):\n",
    "        return (self.shape == v2.shape) and (self.values == v2.values)\n",
    "    def __abs__(self):\n",
    "        return (sum((i**2 for i in self.values)))**0.5\n",
    "    def __add__(self, v2):\n",
    "        if self.shape == v2.shape:\n",
    "            return Vector([self.values[i] + v2.values[i] for i in range(len(self.values))], shape = self.shape[2])\n",
    "        else:\n",
    "            raise Exception('Err! Addition of differently shaped vectors id forbidden')\n",
    "    def __sub__(self, v2):\n",
    "        if self.shape == v2.shape:\n",
    "            return Vector([self.values[i] - v2.values[i] for i in range(len(self.values))], shape = self.shape[2])\n",
    "        else:\n",
    "            raise Exception('Err!  Subtraction of differently shaped vectors id forbidden')\n",
    "    def __mul__(self, v2):\n",
    "        if not (type(v2) == Vector):\n",
    "            v2 = Vector(v2)\n",
    "        if self.shape[1] == v2.shape[0] or v2.shape[2] == 'cr':\n",
    "            if len(v2.values) != 1:\n",
    "                print('In current version such product is unsupported')\n",
    "                return\n",
    "            return Vector([i*v2.values[0] for i in self.values], shape = self.shape[2])\n",
    "        else:\n",
    "            raise Exception('Err! Unsupported argument!',(self.shape, v2.shape))\n",
    "    def __rmul__(self, v2):\n",
    "        if not (type(v2) == Vector):\n",
    "            v2 = Vector(v2)\n",
    "        if self.shape[0] == v2.shape[1] or v2.shape[2] == 'cr' or self.shape == 'cr':\n",
    "            if len(v2.values) != 1:\n",
    "                print('In current version such product is unsupported')\n",
    "                return\n",
    "            return Vector([i*v2.values[0] for i in self.values], shape = self.shape[2])\n",
    "        else:\n",
    "            raise Exception('Err! Unsupported argument!',(self.shape, v2.shape))\n",
    "    def __repr__(self):\n",
    "        return self.values.__repr__()+ '\\nshape: {}×{}'.format(self.shape[0], self.shape[1])\n",
    "    def __str__(self):\n",
    "        return self.values.__repr__()+'\\nshape: {}×{}'.format(self.shape[0], self.shape[1])"
   ]
  },
  {
   "cell_type": "code",
   "execution_count": 103,
   "metadata": {},
   "outputs": [
    {
     "data": {
      "text/plain": [
       "[2, 4]\n",
       "shape: 2×1"
      ]
     },
     "execution_count": 103,
     "metadata": {},
     "output_type": "execute_result"
    }
   ],
   "source": [
    "Vector([1,2]) + Vector(1,2)"
   ]
  },
  {
   "cell_type": "code",
   "execution_count": 137,
   "metadata": {},
   "outputs": [
    {
     "data": {
      "text/plain": [
       "[2, 4, 6, 8, 10, 12]\n",
       "shape: 6×1"
      ]
     },
     "execution_count": 137,
     "metadata": {},
     "output_type": "execute_result"
    }
   ],
   "source": [
    "Vector([1,2,3,4,5,6]) + Vector(1,2,3,4,5,6)"
   ]
  },
  {
   "cell_type": "code",
   "execution_count": 139,
   "metadata": {},
   "outputs": [
    {
     "name": "stdout",
     "output_type": "stream",
     "text": [
      "[-1]\n",
      "shape: 1×1\n"
     ]
    }
   ],
   "source": [
    "print(Vector(0)-Vector(1))"
   ]
  },
  {
   "cell_type": "code",
   "execution_count": 104,
   "metadata": {},
   "outputs": [
    {
     "data": {
      "text/plain": [
       "True"
      ]
     },
     "execution_count": 104,
     "metadata": {},
     "output_type": "execute_result"
    }
   ],
   "source": [
    "Vector([1,2]) == Vector(1,2) "
   ]
  },
  {
   "cell_type": "code",
   "execution_count": 141,
   "metadata": {},
   "outputs": [
    {
     "data": {
      "text/plain": [
       "False"
      ]
     },
     "execution_count": 141,
     "metadata": {},
     "output_type": "execute_result"
    }
   ],
   "source": [
    "Vector(1,4) == Vector(2,5,6) "
   ]
  },
  {
   "cell_type": "code",
   "execution_count": 106,
   "metadata": {},
   "outputs": [
    {
     "data": {
      "text/plain": [
       "5.0"
      ]
     },
     "execution_count": 106,
     "metadata": {},
     "output_type": "execute_result"
    }
   ],
   "source": [
    "abs(Vector([3,4]))"
   ]
  },
  {
   "cell_type": "code",
   "execution_count": 164,
   "metadata": {},
   "outputs": [
    {
     "data": {
      "text/plain": [
       "[2, 4, 12, 14]\n",
       "shape: 4×1"
      ]
     },
     "execution_count": 164,
     "metadata": {},
     "output_type": "execute_result"
    }
   ],
   "source": [
    "Vector([1,2,6,7], shape='c')*2"
   ]
  },
  {
   "cell_type": "code",
   "execution_count": 165,
   "metadata": {},
   "outputs": [
    {
     "data": {
      "text/plain": [
       "[2, 4, 12, 14]\n",
       "shape: 1×4"
      ]
     },
     "execution_count": 165,
     "metadata": {},
     "output_type": "execute_result"
    }
   ],
   "source": [
    "Vector([1,2,6,7], shape='r')*2"
   ]
  },
  {
   "cell_type": "code",
   "execution_count": 607,
   "metadata": {},
   "outputs": [
    {
     "data": {
      "text/plain": [
       "[2, 4, 12, 14]\n",
       "shape: 1×4"
      ]
     },
     "execution_count": 607,
     "metadata": {},
     "output_type": "execute_result"
    }
   ],
   "source": [
    "2*Vector([1,2,6,7], shape='r')"
   ]
  },
  {
   "cell_type": "code",
   "execution_count": 168,
   "metadata": {},
   "outputs": [
    {
     "name": "stdout",
     "output_type": "stream",
     "text": [
      "In current version such product is unsupported\n"
     ]
    }
   ],
   "source": [
    "Vector([1,2,6,7], shape='r')*Vector([1,2,6,7], shape='c')"
   ]
  },
  {
   "cell_type": "code",
   "execution_count": 159,
   "metadata": {},
   "outputs": [
    {
     "data": {
      "text/plain": [
       "True"
      ]
     },
     "execution_count": 159,
     "metadata": {},
     "output_type": "execute_result"
    }
   ],
   "source": [
    "Vector(1).shape[0] == Vector(1).shape[1]"
   ]
  },
  {
   "cell_type": "markdown",
   "metadata": {},
   "source": [
    "# Задача 5 =  задача 2 из лабы про ООП\n",
    "\n",
    "Вам на вход приходит последовательность целых чисел. Вам надо обрабатывать ее следующим образом: выводить на экран сумму первых пяти чисел этой последовательности, затем следующих 5 итд\n",
    "\n",
    "Но последовательность не дается вам сразу целиком. С течением времени к вам поступают её последовательные части. Например, сначала первые три элемента, потом следующие шесть, потом следующие два и т. д.\n",
    "\n",
    "Реализуйте класс Buffer, который будет накапливать в себе элементы последовательности и выводить сумму пятерок последовательных элементов по мере их накопления.\n",
    "\n",
    "Одним из требований к классу является то, что он не должен хранить в себе больше элементов, чем ему действительно необходимо, т. е. он не должен хранить элементы, которые уже вошли в пятерку, для которой была выведена сумма.\n",
    "\n",
    "Класс должен иметь следующий вид"
   ]
  },
  {
   "cell_type": "code",
   "execution_count": 221,
   "metadata": {},
   "outputs": [],
   "source": [
    "class Buffer:\n",
    "    def __init__(self):\n",
    "        self.batch = []\n",
    "        self.size = 0\n",
    "        \n",
    "    def add(self, *a):\n",
    "        term_ind = 5-self.size\n",
    "        #print('ti: ',term_ind)\n",
    "        if term_ind > len(a):\n",
    "            self.batch += list(a)\n",
    "            self.size+=len(a)\n",
    "        else:\n",
    "            #print(self.values)\n",
    "            self.batch +=  list(a[:term_ind])\n",
    "            print('sum of ', self.batch,' is ', sum(self.batch))\n",
    "            self.size=0\n",
    "            self.batch=[]\n",
    "            self.add(*a[term_ind:])        \n",
    "\n",
    "    def get_current_part(self):\n",
    "        print('Current part is ',self.batch)\n",
    "        return self.batch"
   ]
  },
  {
   "cell_type": "code",
   "execution_count": 222,
   "metadata": {},
   "outputs": [
    {
     "name": "stdout",
     "output_type": "stream",
     "text": [
      "sum of  [1, 2, 3, 1, 2]  is  9\n",
      "sum of  [3, 4, 1, 2, 3]  is  13\n",
      "Current part is  [4]\n"
     ]
    },
    {
     "data": {
      "text/plain": [
       "[4]"
      ]
     },
     "execution_count": 222,
     "metadata": {},
     "output_type": "execute_result"
    }
   ],
   "source": [
    "a = Buffer()\n",
    "a.add(1,2,3)\n",
    "a.add(1,2,3,4)\n",
    "a.add(1,2,3,4)\n",
    "a.get_current_part()"
   ]
  },
  {
   "cell_type": "markdown",
   "metadata": {},
   "source": [
    "# Задача 6 = задача 3 из лабы про ООП\n",
    "\n",
    "Создайте правильные цепочки наследования классов для: Животное, собака, щенок, самолет, компьютер, имеющее лапы, летающее, орел, белка-летяга, разумное, человек, медуза, одуванчик.\n",
    "В эти классы добавьте конструкторы, а также методы для следующих действий (где надо): полаять, родить, сложить два числа, ужалить, подумать, взлететь, пустить корни, поесть, взять, а также следующие поля: возраст, латинское название (или модель). Прокомментируйте вашу логику"
   ]
  },
  {
   "cell_type": "markdown",
   "metadata": {},
   "source": [
    ">Сделаем фабрику для создания функций, запихнем функции в словарь, проверим, что все работает"
   ]
  },
  {
   "cell_type": "code",
   "execution_count": 268,
   "metadata": {},
   "outputs": [
    {
     "name": "stdout",
     "output_type": "stream",
     "text": [
      "полаять\n"
     ]
    }
   ],
   "source": [
    "from copy import copy\n",
    "def print_factory(string):\n",
    "    def f(self):\n",
    "        return print(string)  # i is now a *local* variable of f_factory and can't ever change\n",
    "    return f\n",
    "function_names = 'полаять, родить, сложить_два_числа, ужалить, подумать, взлететь, пустить_корни, поесть, взять'.split(sep=', ')\n",
    "functions = {i:print_factory(i) for i in function_names}\n",
    "functions[function_names[0]]('аргумент')\n"
   ]
  },
  {
   "cell_type": "markdown",
   "metadata": {},
   "source": [
    ">Сделаем класс, в который можно удобно добавлять методы, которые возьмем из словаря в предыдущем пункте"
   ]
  },
  {
   "cell_type": "code",
   "execution_count": 269,
   "metadata": {},
   "outputs": [],
   "source": [
    "from functools import partial\n",
    "class OBJ_CUSTOM():\n",
    "    def __init__(self):\n",
    "        super()\n",
    "    def add_methods(self, *funcs):\n",
    "        for f in funcs:\n",
    "            setattr(self, f, partial(functions[f], self))"
   ]
  },
  {
   "cell_type": "markdown",
   "metadata": {},
   "source": [
    ">Покажем, что все работает"
   ]
  },
  {
   "cell_type": "code",
   "execution_count": 271,
   "metadata": {},
   "outputs": [
    {
     "name": "stdout",
     "output_type": "stream",
     "text": [
      "пустить_корни\n"
     ]
    }
   ],
   "source": [
    "class Oduvanchik(OBJ_CUSTOM):\n",
    "    def __init__(self):\n",
    "        super()\n",
    "        self.add_methods('пустить_корни')\n",
    "        self.age = 0\n",
    "        self.latin = 'oduvanchik'\n",
    "Oduvanchik().пустить_корни()"
   ]
  },
  {
   "cell_type": "markdown",
   "metadata": {},
   "source": [
    ">Моя позиция такова, что возраст есть у любых материальных объектов, как и название на латыни, так как если этого названия и нет, то его можно придумать. Для простоты вместо латыни будет транслит. В целом, моя попытка предусмотреть все возможные варианты наследований и применений функций давала бы основание предположить, что я болен шизофренией, так что просто составим какой-нибудь удолетворительный, на мой взгляд, вариант иерархии. "
   ]
  },
  {
   "cell_type": "code",
   "execution_count": 331,
   "metadata": {},
   "outputs": [],
   "source": [
    "class Komputer(OBJ_CUSTOM):\n",
    "    def __init__(self):\n",
    "        super().__init__()\n",
    "        self.age = 0\n",
    "        self.latin = 'komputer'\n",
    "        self.add_methods('сложить_два_числа')\n",
    "        \n",
    "class Letaushee(OBJ_CUSTOM):# Если найти достаточно высокую гору, то летает все, но в более узком смысле, пусть летают как самолеты, так и некоторые животные\n",
    "    def __init__(self):\n",
    "        super().__init__()\n",
    "        self.add_methods('взлететь')\n",
    "        self.age = 0\n",
    "        self.latin = 'Letaushee'\n",
    "        \n",
    "class Razumnoe(OBJ_CUSTOM): # гипотетически Искуственный Интеллект разумен, а он не живой\n",
    "    def __init__(self):\n",
    "        super().__init__()\n",
    "        self.add_methods('сложить_два_числа','подумать')  #Если что-то или кто-то разумно (разумен), ему не составит труда сложить два небольших числа (по такой классификации я не разумен, но отбросим это для простоты)\n",
    "        self.age = 0\n",
    "        self.latin = 'Razumnoe'\n",
    "\n",
    "class ImeusheeLapy(OBJ_CUSTOM): #ветка ели - лапа, так что много что может иметь лапы, поэтому никаких подходящих функций не добавить\n",
    "    def __init__(self):\n",
    "        super().__init__()\n",
    "        self.age = 0\n",
    "        self.latin = 'ImeusheeLapy'\n",
    "class Zhivotnoe(OBJ_CUSTOM): #Логично считать, что все животные в некотором смысле рожают\n",
    "    def __init__(self):\n",
    "        super().__init__()\n",
    "        self.age = 0\n",
    "        self.latin = 'zhivotnoe'\n",
    "        self.add_methods('родить')\n",
    "\n",
    "class BelkaLetyaga(ImeusheeLapy, Zhivotnoe, Letaushee):\n",
    "    def __init__(self):\n",
    "        super().__init__()\n",
    "        self.add_methods('взять','поесть')\n",
    "        self.latin = 'BelkaLetyaga'\n",
    "        \n",
    "class Sobaka(ImeusheeLapy, Razumnoe, Zhivotnoe):\n",
    "    def __init__(self):\n",
    "        super().__init__()\n",
    "        self.add_methods('взять','поесть')\n",
    "        self.latin = 'Sobaka'\n",
    "        \n",
    "class Shenok(Sobaka):\n",
    "    def __init__(self):\n",
    "        super().__init__() \n",
    "        self.age -= 1 #то же самое что и собака, но, наверное, младше среднего\n",
    "        self.latin = 'Shenok'\n",
    "        \n",
    "class Orel(Zhivotnoe, Letaushee, Razumnoe):\n",
    "    def __init__(self):\n",
    "        super().__init__()\n",
    "        self.add_methods('взять','поесть')\n",
    "        self.latin = 'Orel'\n",
    "        \n",
    "class Chelovek(Zhivotnoe, ImeusheeLapy, Razumnoe):\n",
    "    def __init__(self):\n",
    "        super().__init__()\n",
    "        self.add_methods('взять','поесть','пустить_корни','полаять') #Иногда человеки лают. Временами о людях говорят, что они пускают корни\n",
    "        self.latin = 'Chelovek'\n",
    "        \n",
    "class Meduza(Zhivotnoe):\n",
    "    def __init__(self):\n",
    "        super().__init__()\n",
    "        self.add_methods('ужалить') #некоторые медузы жалят\n",
    "        self.latin = 'Meduza'\n",
    "class Samolet(Letaushee):\n",
    "     def __init__(self):\n",
    "        super().__init__()\n",
    "        self.latin = 'Samolet'\n",
    "    "
   ]
  },
  {
   "cell_type": "code",
   "execution_count": 332,
   "metadata": {},
   "outputs": [
    {
     "data": {
      "text/plain": [
       "-1"
      ]
     },
     "execution_count": 332,
     "metadata": {},
     "output_type": "execute_result"
    }
   ],
   "source": [
    "Shenok().age"
   ]
  },
  {
   "cell_type": "code",
   "execution_count": 333,
   "metadata": {},
   "outputs": [
    {
     "name": "stdout",
     "output_type": "stream",
     "text": [
      "взлететь\n"
     ]
    }
   ],
   "source": [
    "Orel().взлететь()"
   ]
  },
  {
   "cell_type": "code",
   "execution_count": 334,
   "metadata": {},
   "outputs": [
    {
     "name": "stdout",
     "output_type": "stream",
     "text": [
      "подумать\n"
     ]
    }
   ],
   "source": [
    "Orel().подумать()"
   ]
  },
  {
   "cell_type": "code",
   "execution_count": 335,
   "metadata": {},
   "outputs": [
    {
     "name": "stdout",
     "output_type": "stream",
     "text": [
      "родить\n"
     ]
    }
   ],
   "source": [
    "Orel().родить()"
   ]
  },
  {
   "cell_type": "code",
   "execution_count": 336,
   "metadata": {},
   "outputs": [
    {
     "name": "stdout",
     "output_type": "stream",
     "text": [
      "взять\n"
     ]
    }
   ],
   "source": [
    "Orel().взять()"
   ]
  },
  {
   "cell_type": "code",
   "execution_count": 337,
   "metadata": {},
   "outputs": [
    {
     "name": "stdout",
     "output_type": "stream",
     "text": [
      "поесть\n"
     ]
    }
   ],
   "source": [
    "Orel().поесть()"
   ]
  },
  {
   "cell_type": "markdown",
   "metadata": {},
   "source": [
    "# Задача 7\n",
    "\n",
    "\n",
    "Добавить в ДЗ5 методы атаки персонажей. Продемонстрировать, что при атаке первого персонажа, у 2ого отнимается здоровье, а у первого расходуется мана или накапливается усталость.\n",
    "\n",
    "Добавить в ДЗ5 методы дебафа. Чтобы персонажи могли замедлять скорость перемещения друг друга. (например, если дефолтное скорость персонажа 2 м/с или 2 клетки за шаг, то после дебафа - 1м/с или 1 клетка за шаг). Помните, что дебаф действует некоторое время (несколько секунд или несколько шагов - зависит от концепции вашей игры (пошаговая стратегия или онлайн)\n"
   ]
  },
  {
   "cell_type": "markdown",
   "metadata": {},
   "source": [
    ">Скопируем класс с игроком из предыдущего дз. Добавим имя для удобства логгирования"
   ]
  },
  {
   "cell_type": "code",
   "execution_count": 587,
   "metadata": {},
   "outputs": [],
   "source": [
    "import random\n",
    "class Player:\n",
    "    def log(self, mssg):\n",
    "        print('{}! '.format(self.name), mssg)\n",
    "    def __init__(self, name):\n",
    "        self.name = name\n",
    "        random.seed()\n",
    "        self.HP = 100\n",
    "        self.Mana = 100\n",
    "        self.lvl = 1\n",
    "        self.atck = 1\n",
    "        self.deff = 1\n",
    "        self._itd = 'итд'\n",
    "    def lvl_up(self, lvl=1):\n",
    "        self.lvl += lvl\n",
    "        self.deff +=1\n",
    "        self.atck +=1\n",
    "        self.HP = 100\n",
    "        self.Mana = 100\n",
    "    def debuf(self):\n",
    "        if self.deff > 1 and random.randint(0, 1):\n",
    "            self.deff -= 1\n",
    "        if self.atck >1 and random.randint(0, 1):\n",
    "            self.atck -= 1\n",
    "    def buf(self):\n",
    "        if random.randint(0, 2) == 0:\n",
    "            self.deff += 1\n",
    "        if random.randint(0, 2) == 0:\n",
    "            self.atck += 1\n",
    "    def fireball(self, strength = 1):\n",
    "        buff = self.Mana - 10*strength\n",
    "        if buff>0:\n",
    "            self.Mana = buff\n",
    "            self.log(\"Вы успешно отправили огненный привет с наихудшими пожеланиями.\")\n",
    "        else:\n",
    "            while buff<0:\n",
    "                if strength == 0:\n",
    "                    self.log('В вашем мешочке с волшебными веществами не осталось маны, даже на то чтобы увидеть танцующих жирафов, не говоря уже щ метании даже xxxxxxs фаербол.')\n",
    "                    return False\n",
    "                buff = self.Mana - 10*strength\n",
    "            self.log('Тех таблеток из мешочка хватает, чтоб вообразить фаербол силы ', strength, ' , но на более серьезной транссерфинг реальности возьмите чего покрепче.')\n",
    "            self.Mana = buff\n",
    "        return True\n",
    "    def hit_me(self, dmg=10):\n",
    "        buff = self.HP - dmg\n",
    "        if buff > 0:\n",
    "            self.HP = buff\n",
    "            self.log('Похоже Вас ударли. HP: {}'.format(self.HP))\n",
    "        else:\n",
    "            self.log('Вас чуть было не убили, но (какая радость) пролетавший мимо гном на единороге напоил тебя живой водой и весь урон взяла на себя печень -- а она заколдована. Белка продолжается.')"
   ]
  },
  {
   "cell_type": "markdown",
   "metadata": {},
   "source": [
    "> Унаследуемся, допишем необхожимый функционал, `_tray` -- хранилище с функциями (и с их аргументами) последующих отменений бафов и дебафов"
   ]
  },
  {
   "cell_type": "code",
   "execution_count": 588,
   "metadata": {},
   "outputs": [],
   "source": [
    "class Player2(Player):\n",
    "    _tray = dict()\n",
    "    _step = 0\n",
    "    def __init__(self, name):\n",
    "        super().__init__(name)\n",
    "        self.speed = 2\n",
    "        \n",
    "    def intray(self, obj,param, modify, expired):\n",
    "        expired = Player2._step + expired\n",
    "        if not (expired in Player2._tray):\n",
    "            Player2._tray[expired] = list()\n",
    "        Player2._tray[expired].append({'obj':obj ,'par': param,'def': modify})\n",
    "        \n",
    "    def tray_manager(self):\n",
    "        cur_step = Player2._step\n",
    "        if cur_step in Player2._tray:\n",
    "            for task in Player2._tray[cur_step]:\n",
    "                task['obj'].__dict__[task['par']] = task['def'](task['obj'].__dict__[task['par']])\n",
    "            del Player2._tray[cur_step]\n",
    "        Player2._step+=1\n",
    "    def attack(self, opponent, strength = 1):\n",
    "        if self.fireball(strength):\n",
    "            opponent.hit_me(self.atck/opponent.deff*strength*5)\n",
    "        self.tray_manager()\n",
    "    def debuf(self):\n",
    "        modify = lambda x: x+1\n",
    "        if self.speed > 0:\n",
    "            self.log('Вас настолько тянет во времена, когда трава была зеленее, что ходить по нынешней, блеклой, становится буквально все труднее. -1 к скорости на 10 ходов')\n",
    "            self.speed -= 1\n",
    "            self.intray(self,'speed', modify, 10)\n",
    "        else:\n",
    "            self.log('Да Вы и так стоите, медленнее делать этого, к счастью, нельзя')\n",
    "            \n",
    "        if self.deff > 1 and random.randint(0, 1):\n",
    "            self.log('Вы сдали свой окаменевшие от выслуги лет носки в стирку. -1 к защите на 5 ходов')\n",
    "            self.deff -= 1\n",
    "            self.intray(self,'deff', modify, 5)\n",
    "        else:\n",
    "            self.log('Крепость Вашего лба, закаленная неоднократным наступанием на грабли стала Вашим неотъемлимым, надеемся, достоинством. Оборона остается 1')\n",
    "            \n",
    "        if self.atck >1 and random.randint(0, 1):\n",
    "            self.log('Махатма Ганди произвел на Вас неизгладимое впечатление, пацифистом Вы не стали, но подобрели. -1 к урону на 5 ходов')\n",
    "            self.atck -= 1\n",
    "            self.intray(self,'atck', modify, 5)\n",
    "        else:\n",
    "            self.log('Тот яростный взгляд, которым Вы буравите своих противников -- не отнять. Атака остается 1')\n",
    "        self.tray_manager()\n",
    "        \n",
    "    def buf(self):\n",
    "        modify = lambda x: x-1\n",
    "        if random.randint(0, 2) == 0:\n",
    "            self.log('Вам повезло, слой грязи теперь достаточно большой, чтобы служить защитой. +1 к обороне на 2 хода')\n",
    "            self.deff += 1\n",
    "            self.intray(self,'deff', modify, 2)\n",
    "        if random.randint(0, 2) == 0:\n",
    "            self.atck += 1\n",
    "            self.log(\"Вы встали не с той ноги, и обиженная конечность пинается лучше. +1 к атаке на 2 хода\")\n",
    "            self.intray(self,'atck', modify, 2)\n",
    "        self.tray_manager()\n",
    "    def mv(self):\n",
    "        self.log(\"Вы прошли из ниоткуда в никуда на {} клет{} больше\".format(self.speed, {1:'ку', 2:'ок'}[self.speed]))\n",
    "        self.tray_manager()\n"
   ]
  },
  {
   "cell_type": "markdown",
   "metadata": {},
   "source": [
    ">интерфейс:\n",
    "   * двинуть (следующий ход в <i>пошаговой игре</i>): `Player2_obj.mv()`\n",
    "   * баф:  `Player2_obj.buf()`\n",
    "   * дебаф:  `Player2_obj.debuf()`\n",
    "   * атака:  `Player2_obj.attack(enemy:Player2, strength:int)`"
   ]
  },
  {
   "cell_type": "code",
   "execution_count": 589,
   "metadata": {},
   "outputs": [],
   "source": [
    "mrFoo = Player2('Mr Foo')\n",
    "mrBar = Player2('Mr Bar')"
   ]
  },
  {
   "cell_type": "code",
   "execution_count": 590,
   "metadata": {},
   "outputs": [
    {
     "name": "stdout",
     "output_type": "stream",
     "text": [
      "Mr Foo!  Вы прошли из ниоткуда в никуда на 2 клеток больше\n"
     ]
    }
   ],
   "source": [
    "mrFoo.mv()"
   ]
  },
  {
   "cell_type": "code",
   "execution_count": 591,
   "metadata": {},
   "outputs": [
    {
     "data": {
      "text/plain": [
       "1"
      ]
     },
     "execution_count": 591,
     "metadata": {},
     "output_type": "execute_result"
    }
   ],
   "source": [
    "mrFoo.deff"
   ]
  },
  {
   "cell_type": "code",
   "execution_count": 592,
   "metadata": {},
   "outputs": [
    {
     "name": "stdout",
     "output_type": "stream",
     "text": [
      "Mr Foo!  Вам повезло, слой грязи теперь достаточно большой, чтобы служить защитой. +1 к обороне на 2 хода\n"
     ]
    }
   ],
   "source": [
    "mrFoo.buf()"
   ]
  },
  {
   "cell_type": "code",
   "execution_count": 594,
   "metadata": {},
   "outputs": [
    {
     "data": {
      "text/plain": [
       "2"
      ]
     },
     "execution_count": 594,
     "metadata": {},
     "output_type": "execute_result"
    }
   ],
   "source": [
    "mrFoo.deff"
   ]
  },
  {
   "cell_type": "code",
   "execution_count": 595,
   "metadata": {},
   "outputs": [
    {
     "name": "stdout",
     "output_type": "stream",
     "text": [
      "Mr Foo!  Вы прошли из ниоткуда в никуда на 2 клеток больше\n",
      "Mr Foo!  Вы прошли из ниоткуда в никуда на 2 клеток больше\n"
     ]
    },
    {
     "data": {
      "text/plain": [
       "1"
      ]
     },
     "execution_count": 595,
     "metadata": {},
     "output_type": "execute_result"
    }
   ],
   "source": [
    "mrFoo.mv()\n",
    "mrFoo.mv()\n",
    "mrFoo.deff"
   ]
  },
  {
   "cell_type": "code",
   "execution_count": 596,
   "metadata": {},
   "outputs": [
    {
     "name": "stdout",
     "output_type": "stream",
     "text": [
      "Mr Foo!  Вас настолько тянет во времена, когда трава была зеленее, что ходить по нынешней, блеклой, становится буквально все труднее. -1 к скорости на 10 ходов\n",
      "Mr Foo!  Крепость Вашего лба, закаленная неоднократным наступанием на грабли стала Вашим неотъемлимым, надеемся, достоинством. Оборона остается 1\n",
      "Mr Foo!  Махатма Ганди произвел на Вас неизгладимое впечатление, пацифистом Вы не стали, но подобрели. -1 к урону на 5 ходов\n"
     ]
    }
   ],
   "source": [
    "mrFoo.lvl_up()\n",
    "mrFoo.debuf()"
   ]
  },
  {
   "cell_type": "code",
   "execution_count": 597,
   "metadata": {},
   "outputs": [
    {
     "data": {
      "text/plain": [
       "{'name': 'Mr Foo',\n",
       " 'HP': 100,\n",
       " 'Mana': 100,\n",
       " 'lvl': 2,\n",
       " 'atck': 1,\n",
       " 'deff': 2,\n",
       " '_itd': 'итд',\n",
       " 'speed': 1}"
      ]
     },
     "execution_count": 597,
     "metadata": {},
     "output_type": "execute_result"
    }
   ],
   "source": [
    "mrFoo.__dict__"
   ]
  },
  {
   "cell_type": "code",
   "execution_count": 598,
   "metadata": {},
   "outputs": [
    {
     "name": "stdout",
     "output_type": "stream",
     "text": [
      "Mr Foo!  Вы прошли из ниоткуда в никуда на 1 клетку больше\n",
      "Mr Foo!  Вы прошли из ниоткуда в никуда на 1 клетку больше\n",
      "Mr Foo!  Вы прошли из ниоткуда в никуда на 1 клетку больше\n",
      "Mr Foo!  Вы прошли из ниоткуда в никуда на 1 клетку больше\n",
      "Mr Foo!  Вы прошли из ниоткуда в никуда на 1 клетку больше\n"
     ]
    },
    {
     "data": {
      "text/plain": [
       "{'name': 'Mr Foo',\n",
       " 'HP': 100,\n",
       " 'Mana': 100,\n",
       " 'lvl': 2,\n",
       " 'atck': 2,\n",
       " 'deff': 2,\n",
       " '_itd': 'итд',\n",
       " 'speed': 1}"
      ]
     },
     "execution_count": 598,
     "metadata": {},
     "output_type": "execute_result"
    }
   ],
   "source": [
    "for i in range(5):\n",
    "    mrFoo.mv()\n",
    "mrFoo.__dict__"
   ]
  },
  {
   "cell_type": "code",
   "execution_count": 599,
   "metadata": {},
   "outputs": [
    {
     "name": "stdout",
     "output_type": "stream",
     "text": [
      "Mr Foo!  Вы прошли из ниоткуда в никуда на 1 клетку больше\n",
      "Mr Foo!  Вы прошли из ниоткуда в никуда на 1 клетку больше\n",
      "Mr Foo!  Вы прошли из ниоткуда в никуда на 1 клетку больше\n",
      "Mr Foo!  Вы прошли из ниоткуда в никуда на 1 клетку больше\n",
      "Mr Foo!  Вы прошли из ниоткуда в никуда на 1 клетку больше\n"
     ]
    },
    {
     "data": {
      "text/plain": [
       "{'name': 'Mr Foo',\n",
       " 'HP': 100,\n",
       " 'Mana': 100,\n",
       " 'lvl': 2,\n",
       " 'atck': 2,\n",
       " 'deff': 2,\n",
       " '_itd': 'итд',\n",
       " 'speed': 2}"
      ]
     },
     "execution_count": 599,
     "metadata": {},
     "output_type": "execute_result"
    }
   ],
   "source": [
    "for i in range(5):\n",
    "    mrFoo.mv()\n",
    "mrFoo.__dict__"
   ]
  },
  {
   "cell_type": "code",
   "execution_count": 604,
   "metadata": {},
   "outputs": [],
   "source": [
    "mrBar.HP = 100\n",
    "mrFoo.Mana = 100"
   ]
  },
  {
   "cell_type": "code",
   "execution_count": 605,
   "metadata": {},
   "outputs": [
    {
     "name": "stdout",
     "output_type": "stream",
     "text": [
      "Mr Foo's mana:  100 ; Mr Bar's HP: 100\n",
      "Mr Foo!  Вы успешно отправили огненный привет с наихудшими пожеланиями.\n",
      "Mr Bar!  Похоже Вас ударли. HP: 90.0\n",
      "Mr Foo's mana:  90 ; Mr Bar's HP: 90.0\n"
     ]
    }
   ],
   "source": [
    "print(\"Mr Foo's mana: \", mrFoo.Mana, \"; Mr Bar's HP:\" ,mrBar.HP)\n",
    "mrFoo.attack(mrBar)\n",
    "print(\"Mr Foo's mana: \", mrFoo.Mana, \"; Mr Bar's HP:\", mrBar.HP)"
   ]
  },
  {
   "cell_type": "markdown",
   "metadata": {},
   "source": [
    "# Задача 8 (Генетический алгоритм)\n",
    "\n",
    "Создать класс клетки с данными ДНК - последовательность символов. Клетка должна уметь делиться (написать метод класса). Реализовать процесс деления так, чтобы он отражал биологический процесс. Как делать - решать вам."
   ]
  },
  {
   "cell_type": "markdown",
   "metadata": {},
   "source": [
    ">Биологический смысл деления митозом -- сохранение генетического материала, посему деление есть создание объекта того же класса с той же ДНК-ой, что и объект, вызвавший метод деления"
   ]
  },
  {
   "cell_type": "code",
   "execution_count": 343,
   "metadata": {},
   "outputs": [],
   "source": [
    "import random\n",
    "random.seed(42)\n",
    "class Cell:\n",
    "    def __init__(self, DNA = False):\n",
    "        if DNA:\n",
    "            self.DNA = DNA\n",
    "        else:\n",
    "            self.DNA = [random.choice(['A','T','G','C']) for _ in range(random.randint(30,900))]\n",
    "    def mitosis(self):\n",
    "        return Cell(self.DNA)"
   ]
  },
  {
   "cell_type": "code",
   "execution_count": 348,
   "metadata": {},
   "outputs": [
    {
     "data": {
      "text/plain": [
       "True"
      ]
     },
     "execution_count": 348,
     "metadata": {},
     "output_type": "execute_result"
    }
   ],
   "source": [
    "a = Cell()\n",
    "b = a.mitosis()\n",
    "b.DNA == a.DNA"
   ]
  },
  {
   "cell_type": "markdown",
   "metadata": {},
   "source": [
    "Удачи! Дедлайн по ДЗ67 - до след выходных включительно, 27.10.2019 (23:59)\n",
    "Выкладывайте решение на гитхаб, присылайте письмо со ссылкой на почту. Как всегда крч."
   ]
  }
 ],
 "metadata": {
  "kernel_info": {
   "name": "python3"
  },
  "kernelspec": {
   "display_name": "Python 3",
   "language": "python",
   "name": "python3"
  },
  "language_info": {
   "codemirror_mode": {
    "name": "ipython",
    "version": 3
   },
   "file_extension": ".py",
   "mimetype": "text/x-python",
   "name": "python",
   "nbconvert_exporter": "python",
   "pygments_lexer": "ipython3",
   "version": "3.7.3"
  },
  "nteract": {
   "version": "0.15.0"
  }
 },
 "nbformat": 4,
 "nbformat_minor": 2
}
